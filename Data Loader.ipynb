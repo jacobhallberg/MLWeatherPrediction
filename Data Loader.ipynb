{
 "cells": [
  {
   "cell_type": "code",
   "execution_count": 49,
   "metadata": {},
   "outputs": [],
   "source": [
    "import numpy as np\n",
    "import pandas as pd\n",
    "from functools import reduce"
   ]
  },
  {
   "cell_type": "code",
   "execution_count": 56,
   "metadata": {},
   "outputs": [],
   "source": [
    "city_attributes = pd.read_csv(\"historical-hourly-weather-data/city_attributes.csv\")\n",
    "humidity = pd.read_csv(\"historical-hourly-weather-data/humidity.csv\")\n",
    "pressure = pd.read_csv(\"historical-hourly-weather-data/pressure.csv\")\n",
    "temperature = pd.read_csv(\"historical-hourly-weather-data/temperature.csv\")\n",
    "weather_description = pd.read_csv(\"historical-hourly-weather-data/weather_description.csv\")\n",
    "wind_direction = pd.read_csv(\"historical-hourly-weather-data/wind_direction.csv\")\n",
    "wind_speed = pd.read_csv(\"historical-hourly-weather-data/wind_speed.csv\")"
   ]
  },
  {
   "cell_type": "code",
   "execution_count": 57,
   "metadata": {},
   "outputs": [],
   "source": [
    "def update_column_names(df, attribute):\n",
    "    columns = df.columns\n",
    "    columns = [attribute + \"_\" + columns[i] for i in range(1,len(columns))]\n",
    "    \n",
    "    df.columns = [\"datetime\"] + columns\n",
    "    \n",
    "    return df"
   ]
  },
  {
   "cell_type": "code",
   "execution_count": 58,
   "metadata": {},
   "outputs": [],
   "source": [
    "city_attributes = update_column_names(city_attributes, \"city_attributes\")\n",
    "humidity = update_column_names(humidity, \"humidity\")\n",
    "pressure = update_column_names(pressure, \"pressure\")\n",
    "temperature = update_column_names(temperature, \"temperature\")\n",
    "weather_description = update_column_names(weather_description, \"weather_description\")\n",
    "wind_direction = update_column_names(wind_direction, \"wind_direction\")\n",
    "wind_speed = update_column_names(wind_speed, \"wind_speed\")"
   ]
  },
  {
   "cell_type": "code",
   "execution_count": 60,
   "metadata": {},
   "outputs": [],
   "source": [
    "dfs = [humidity, pressure, temperature, weather_description, wind_direction, wind_speed]\n",
    "hourly_weather_data = reduce(lambda left,right: pd.merge(left,right,on='datetime'), dfs)"
   ]
  },
  {
   "cell_type": "code",
   "execution_count": 61,
   "metadata": {},
   "outputs": [],
   "source": [
    "def view_city_attributes(df, city, attributes):\n",
    "    wanted_columns = [attribute +  \"_\" + city for attribute in attributes]\n",
    "    return df[wanted_columns]"
   ]
  },
  {
   "cell_type": "code",
   "execution_count": 67,
   "metadata": {},
   "outputs": [],
   "source": [
    "attributes = [\"humidity\", \"pressure\", \"temperature\", \"weather_description\", \"wind_direction\", \"wind_speed\"]\n",
    "city = \"Denver\"\n",
    "denver = view_city_attributes(hourly_weather_data, city, attributes)"
   ]
  },
  {
   "cell_type": "code",
   "execution_count": 68,
   "metadata": {},
   "outputs": [
    {
     "data": {
      "text/html": [
       "<div>\n",
       "<style scoped>\n",
       "    .dataframe tbody tr th:only-of-type {\n",
       "        vertical-align: middle;\n",
       "    }\n",
       "\n",
       "    .dataframe tbody tr th {\n",
       "        vertical-align: top;\n",
       "    }\n",
       "\n",
       "    .dataframe thead th {\n",
       "        text-align: right;\n",
       "    }\n",
       "</style>\n",
       "<table border=\"1\" class=\"dataframe\">\n",
       "  <thead>\n",
       "    <tr style=\"text-align: right;\">\n",
       "      <th></th>\n",
       "      <th>humidity_Denver</th>\n",
       "      <th>pressure_Denver</th>\n",
       "      <th>temperature_Denver</th>\n",
       "      <th>weather_description_Denver</th>\n",
       "      <th>wind_direction_Denver</th>\n",
       "      <th>wind_speed_Denver</th>\n",
       "    </tr>\n",
       "  </thead>\n",
       "  <tbody>\n",
       "    <tr>\n",
       "      <th>0</th>\n",
       "      <td>NaN</td>\n",
       "      <td>NaN</td>\n",
       "      <td>NaN</td>\n",
       "      <td>NaN</td>\n",
       "      <td>NaN</td>\n",
       "      <td>NaN</td>\n",
       "    </tr>\n",
       "    <tr>\n",
       "      <th>1</th>\n",
       "      <td>62.0</td>\n",
       "      <td>1028.0</td>\n",
       "      <td>284.610000</td>\n",
       "      <td>light rain</td>\n",
       "      <td>20.0</td>\n",
       "      <td>4.0</td>\n",
       "    </tr>\n",
       "    <tr>\n",
       "      <th>2</th>\n",
       "      <td>62.0</td>\n",
       "      <td>1028.0</td>\n",
       "      <td>284.607306</td>\n",
       "      <td>broken clouds</td>\n",
       "      <td>22.0</td>\n",
       "      <td>4.0</td>\n",
       "    </tr>\n",
       "  </tbody>\n",
       "</table>\n",
       "</div>"
      ],
      "text/plain": [
       "   humidity_Denver  pressure_Denver  temperature_Denver  \\\n",
       "0              NaN              NaN                 NaN   \n",
       "1             62.0           1028.0          284.610000   \n",
       "2             62.0           1028.0          284.607306   \n",
       "\n",
       "  weather_description_Denver  wind_direction_Denver  wind_speed_Denver  \n",
       "0                        NaN                    NaN                NaN  \n",
       "1                 light rain                   20.0                4.0  \n",
       "2              broken clouds                   22.0                4.0  "
      ]
     },
     "execution_count": 68,
     "metadata": {},
     "output_type": "execute_result"
    }
   ],
   "source": [
    "denver.head(3)"
   ]
  },
  {
   "cell_type": "code",
   "execution_count": 69,
   "metadata": {},
   "outputs": [
    {
     "data": {
      "text/html": [
       "<div>\n",
       "<style scoped>\n",
       "    .dataframe tbody tr th:only-of-type {\n",
       "        vertical-align: middle;\n",
       "    }\n",
       "\n",
       "    .dataframe tbody tr th {\n",
       "        vertical-align: top;\n",
       "    }\n",
       "\n",
       "    .dataframe thead th {\n",
       "        text-align: right;\n",
       "    }\n",
       "</style>\n",
       "<table border=\"1\" class=\"dataframe\">\n",
       "  <thead>\n",
       "    <tr style=\"text-align: right;\">\n",
       "      <th></th>\n",
       "      <th>humidity_Denver</th>\n",
       "      <th>pressure_Denver</th>\n",
       "      <th>temperature_Denver</th>\n",
       "      <th>wind_direction_Denver</th>\n",
       "      <th>wind_speed_Denver</th>\n",
       "    </tr>\n",
       "  </thead>\n",
       "  <tbody>\n",
       "    <tr>\n",
       "      <th>count</th>\n",
       "      <td>43445.000000</td>\n",
       "      <td>44710.000000</td>\n",
       "      <td>45252.000000</td>\n",
       "      <td>45252.000000</td>\n",
       "      <td>45251.000000</td>\n",
       "    </tr>\n",
       "    <tr>\n",
       "      <th>mean</th>\n",
       "      <td>53.022557</td>\n",
       "      <td>1011.976359</td>\n",
       "      <td>282.839407</td>\n",
       "      <td>184.769005</td>\n",
       "      <td>2.438996</td>\n",
       "    </tr>\n",
       "    <tr>\n",
       "      <th>std</th>\n",
       "      <td>23.905392</td>\n",
       "      <td>41.343487</td>\n",
       "      <td>10.673464</td>\n",
       "      <td>104.705030</td>\n",
       "      <td>2.158956</td>\n",
       "    </tr>\n",
       "    <tr>\n",
       "      <th>min</th>\n",
       "      <td>5.000000</td>\n",
       "      <td>800.000000</td>\n",
       "      <td>247.727667</td>\n",
       "      <td>0.000000</td>\n",
       "      <td>0.000000</td>\n",
       "    </tr>\n",
       "    <tr>\n",
       "      <th>25%</th>\n",
       "      <td>33.000000</td>\n",
       "      <td>1014.000000</td>\n",
       "      <td>275.060000</td>\n",
       "      <td>100.000000</td>\n",
       "      <td>1.000000</td>\n",
       "    </tr>\n",
       "    <tr>\n",
       "      <th>50%</th>\n",
       "      <td>52.000000</td>\n",
       "      <td>1020.000000</td>\n",
       "      <td>282.970667</td>\n",
       "      <td>200.000000</td>\n",
       "      <td>2.000000</td>\n",
       "    </tr>\n",
       "    <tr>\n",
       "      <th>75%</th>\n",
       "      <td>73.000000</td>\n",
       "      <td>1025.000000</td>\n",
       "      <td>290.680000</td>\n",
       "      <td>268.000000</td>\n",
       "      <td>3.000000</td>\n",
       "    </tr>\n",
       "    <tr>\n",
       "      <th>max</th>\n",
       "      <td>100.000000</td>\n",
       "      <td>1089.000000</td>\n",
       "      <td>313.750000</td>\n",
       "      <td>360.000000</td>\n",
       "      <td>22.000000</td>\n",
       "    </tr>\n",
       "  </tbody>\n",
       "</table>\n",
       "</div>"
      ],
      "text/plain": [
       "       humidity_Denver  pressure_Denver  temperature_Denver  \\\n",
       "count     43445.000000     44710.000000        45252.000000   \n",
       "mean         53.022557      1011.976359          282.839407   \n",
       "std          23.905392        41.343487           10.673464   \n",
       "min           5.000000       800.000000          247.727667   \n",
       "25%          33.000000      1014.000000          275.060000   \n",
       "50%          52.000000      1020.000000          282.970667   \n",
       "75%          73.000000      1025.000000          290.680000   \n",
       "max         100.000000      1089.000000          313.750000   \n",
       "\n",
       "       wind_direction_Denver  wind_speed_Denver  \n",
       "count           45252.000000       45251.000000  \n",
       "mean              184.769005           2.438996  \n",
       "std               104.705030           2.158956  \n",
       "min                 0.000000           0.000000  \n",
       "25%               100.000000           1.000000  \n",
       "50%               200.000000           2.000000  \n",
       "75%               268.000000           3.000000  \n",
       "max               360.000000          22.000000  "
      ]
     },
     "execution_count": 69,
     "metadata": {},
     "output_type": "execute_result"
    }
   ],
   "source": [
    "denver.describe()"
   ]
  },
  {
   "cell_type": "code",
   "execution_count": 70,
   "metadata": {},
   "outputs": [],
   "source": [
    "denver.to_csv(\"denver_data.csv\")"
   ]
  }
 ],
 "metadata": {
  "kernelspec": {
   "display_name": "Python 3",
   "language": "python",
   "name": "python3"
  },
  "language_info": {
   "codemirror_mode": {
    "name": "ipython",
    "version": 3
   },
   "file_extension": ".py",
   "mimetype": "text/x-python",
   "name": "python",
   "nbconvert_exporter": "python",
   "pygments_lexer": "ipython3",
   "version": "3.7.0"
  }
 },
 "nbformat": 4,
 "nbformat_minor": 2
}
