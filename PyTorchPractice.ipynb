{
 "cells": [
  {
   "cell_type": "code",
   "execution_count": 1,
   "metadata": {},
   "outputs": [],
   "source": [
    "%load_ext autoreload\n",
    "%autoreload 2\n",
    "import torch\n",
    "from torch.nn import Linear, ReLU, Softmax\n",
    "from torch.utils.data import Dataset, DataLoader\n",
    "from load_data import load_normalized_data\n",
    "from torch.nn.functional import relu, softmax\n",
    "from tqdm import tqdm_notebook, tqdm\n",
    "from IPython.display import clear_output"
   ]
  },
  {
   "cell_type": "markdown",
   "metadata": {},
   "source": [
    "# Model Creation"
   ]
  },
  {
   "cell_type": "code",
   "execution_count": 17,
   "metadata": {},
   "outputs": [],
   "source": [
    "class BasicMLP(torch.nn.Module):\n",
    "    def __init__(self, input_dimensions, output_dimensions):\n",
    "        super(BasicMLP, self).__init__()\n",
    "        # Params: [0] = Input size to that layer. [1] = Number of nodes in that layer.\n",
    "        self.input_layer = Linear(input_dimensions, 50)\n",
    "        self.hidden_layer1 = Linear(50, 100)\n",
    "        self.hidden_layer2 = Linear(100, 200)\n",
    "        self.output_layer = Linear(200, output_dimensions)\n",
    "        self.relu = ReLU()\n",
    "        \n",
    "    def forward(self, input_data):\n",
    "        input_layer_output = self.relu(self.input_layer(input_data))\n",
    "        hidden_layer_output1 = self.relu(self.hidden_layer1(input_layer_output))\n",
    "        hidden_layer_output2 = self.relu(self.hidden_layer2(hidden_layer_output1))\n",
    "        output_layer_output = self.output_layer(hidden_layer_output2)\n",
    "        \n",
    "        return output_layer_output"
   ]
  },
  {
   "cell_type": "markdown",
   "metadata": {},
   "source": [
    "# Data Loader"
   ]
  },
  {
   "cell_type": "code",
   "execution_count": 18,
   "metadata": {},
   "outputs": [],
   "source": [
    "class DenverDataset(Dataset):\n",
    "    \"\"\"Denver Hourly Weather Dataset.\"\"\"\n",
    "\n",
    "    def __init__(self, X_data, y_data):\n",
    "        self.X_data = X_data\n",
    "        self.y_data = y_data\n",
    "        \n",
    "    def __len__(self):\n",
    "        return self.X_data.shape[0]\n",
    "\n",
    "    def __getitem__(self, idx):\n",
    "        return self.X_data[idx], self.y_data[idx][0]"
   ]
  },
  {
   "cell_type": "markdown",
   "metadata": {},
   "source": [
    "# Load Data"
   ]
  },
  {
   "cell_type": "code",
   "execution_count": 19,
   "metadata": {},
   "outputs": [],
   "source": [
    "X_train, X_test, y_train, y_test, num_classes = load_normalized_data(\"data/denver_data.csv\", \"weather_description_Denver\")"
   ]
  },
  {
   "cell_type": "markdown",
   "metadata": {},
   "source": [
    "### Convert to torch objects."
   ]
  },
  {
   "cell_type": "code",
   "execution_count": 20,
   "metadata": {},
   "outputs": [],
   "source": [
    "X_train = torch.tensor(X_train, requires_grad=True, dtype=torch.float).cuda()\n",
    "y_train = torch.tensor(y_train, dtype=torch.long).cuda()\n",
    "X_test = torch.tensor(X_test, requires_grad=True, dtype=torch.float).cuda()\n",
    "y_test = torch.tensor(y_test,  dtype=torch.long).cuda()"
   ]
  },
  {
   "cell_type": "markdown",
   "metadata": {},
   "source": [
    "### Create Dataset"
   ]
  },
  {
   "cell_type": "code",
   "execution_count": 21,
   "metadata": {},
   "outputs": [],
   "source": [
    "batch_size = 400\n",
    "training_set = DataLoader(DenverDataset(X_train, y_train), batch_size=batch_size, shuffle=True)"
   ]
  },
  {
   "cell_type": "markdown",
   "metadata": {},
   "source": [
    "# Train Model"
   ]
  },
  {
   "cell_type": "markdown",
   "metadata": {},
   "source": [
    "### Define Hyperparameters"
   ]
  },
  {
   "cell_type": "code",
   "execution_count": 22,
   "metadata": {},
   "outputs": [],
   "source": [
    "def accuracy(outputs, targets):\n",
    "    indices = torch.argmax(softmax(outputs, dim=1), 1)\n",
    "    batch_size = indices.shape[0]\n",
    "\n",
    "    num_correct = targets.eq(indices).sum()\n",
    "    accuracy = (num_correct.item() / batch_size) * 100\n",
    "    \n",
    "    return accuracy"
   ]
  },
  {
   "cell_type": "code",
   "execution_count": 25,
   "metadata": {},
   "outputs": [],
   "source": [
    "epochs = 1\n",
    "model = BasicMLP(X_train.shape[1], num_classes).cuda() \n",
    "criterion = torch.nn.CrossEntropyLoss()\n",
    "optimizer = torch.optim.Adam(model.parameters(), lr=1e-3)"
   ]
  },
  {
   "cell_type": "markdown",
   "metadata": {},
   "source": [
    "### Training Loop"
   ]
  },
  {
   "cell_type": "code",
   "execution_count": null,
   "metadata": {},
   "outputs": [],
   "source": [
    "loop = tqdm_notebook(range(epochs))\n",
    "for epoch in tqdm_notebook(range(epochs)):\n",
    "    running_loss = 0.0\n",
    "    \n",
    "    for i, data in enumerate(training_set):\n",
    "        \n",
    "        # get the inputs\n",
    "        inputs, labels = data\n",
    "\n",
    "        # zero the parameter gradients\n",
    "        optimizer.zero_grad()\n",
    "    \n",
    "        # forward + backward + optimize\n",
    "        outputs = model(inputs)\n",
    "        loss = criterion(outputs, labels)\n",
    "        loss.backward()\n",
    "        optimizer.step()\n",
    "\n",
    "        if not i % 20:\n",
    "            loop.set_description(\"Accuracy: {}%\".format(accuracy(outputs, labels)))\n",
    "\n",
    "\n",
    "print('Finished Training')\n"
   ]
  },
  {
   "cell_type": "code",
   "execution_count": null,
   "metadata": {},
   "outputs": [],
   "source": [
    "# print('Final Loss: ', running_loss / )\n",
    "#             loop.refresh()\n",
    "        # print statistics\n",
    "#         running_loss += loss.item()\n",
    "#         if i % 20 == 1999:    # print every 2000 mini-batches\n",
    "#             print('[%d, %5d] loss: %.3f' %\n",
    "#                   (epoch + 1, i + 1, running_loss / 2000))\n",
    "#             running_loss = 0.0"
   ]
  }
 ],
 "metadata": {
  "kernelspec": {
   "display_name": "Python 3",
   "language": "python",
   "name": "python3"
  },
  "language_info": {
   "codemirror_mode": {
    "name": "ipython",
    "version": 3
   },
   "file_extension": ".py",
   "mimetype": "text/x-python",
   "name": "python",
   "nbconvert_exporter": "python",
   "pygments_lexer": "ipython3",
   "version": "3.6.0"
  }
 },
 "nbformat": 4,
 "nbformat_minor": 2
}
