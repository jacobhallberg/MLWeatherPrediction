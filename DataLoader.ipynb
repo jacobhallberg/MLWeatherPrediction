{
 "cells": [
  {
   "cell_type": "code",
   "execution_count": 11,
   "metadata": {},
   "outputs": [],
   "source": [
    "import numpy as np\n",
    "import pandas as pd\n",
    "from functools import reduce"
   ]
  },
  {
   "cell_type": "code",
   "execution_count": 2,
   "metadata": {},
   "outputs": [],
   "source": [
    "city_attributes = pd.read_csv(\"data/city_attributes.csv\")\n",
    "humidity = pd.read_csv(\"data/humidity.csv\")\n",
    "pressure = pd.read_csv(\"data/pressure.csv\")\n",
    "temperature = pd.read_csv(\"data/temperature.csv\")\n",
    "weather_description = pd.read_csv(\"data/weather_description.csv\")\n",
    "wind_direction = pd.read_csv(\"data/wind_direction.csv\")\n",
    "wind_speed = pd.read_csv(\"data/wind_speed.csv\")"
   ]
  },
  {
   "cell_type": "code",
   "execution_count": 3,
   "metadata": {},
   "outputs": [],
   "source": [
    "def update_column_names(df, attribute):\n",
    "    columns = df.columns\n",
    "    columns = [attribute + \"_\" + columns[i] for i in range(1,len(columns))]\n",
    "    \n",
    "    df.columns = [\"datetime\"] + columns\n",
    "    \n",
    "    return df"
   ]
  },
  {
   "cell_type": "code",
   "execution_count": 4,
   "metadata": {},
   "outputs": [],
   "source": [
    "city_attributes = update_column_names(city_attributes, \"city_attributes\")\n",
    "humidity = update_column_names(humidity, \"humidity\")\n",
    "pressure = update_column_names(pressure, \"pressure\")\n",
    "temperature = update_column_names(temperature, \"temperature\")\n",
    "weather_description = update_column_names(weather_description, \"weather_description\")\n",
    "wind_direction = update_column_names(wind_direction, \"wind_direction\")\n",
    "wind_speed = update_column_names(wind_speed, \"wind_speed\")"
   ]
  },
  {
   "cell_type": "code",
   "execution_count": 5,
   "metadata": {},
   "outputs": [],
   "source": [
    "dfs = [humidity, pressure, temperature, weather_description, wind_direction, wind_speed]\n",
    "hourly_weather_data = reduce(lambda left,right: pd.merge(left,right,on='datetime'), dfs)"
   ]
  },
  {
   "cell_type": "code",
   "execution_count": 6,
   "metadata": {},
   "outputs": [],
   "source": [
    "def view_city_attributes(df, city, attributes):\n",
    "    wanted_columns = [attribute +  \"_\" + city for attribute in attributes]\n",
    "    return df[wanted_columns]"
   ]
  },
  {
   "cell_type": "code",
   "execution_count": 7,
   "metadata": {},
   "outputs": [],
   "source": [
    "attributes = [\"humidity\", \"pressure\", \"temperature\", \"weather_description\", \"wind_direction\", \"wind_speed\"]\n",
    "city = \"Denver\"\n",
    "denver = view_city_attributes(hourly_weather_data, city, attributes)\n",
    "denver = denver.dropna()"
   ]
  },
  {
   "cell_type": "code",
   "execution_count": 8,
   "metadata": {},
   "outputs": [
    {
     "data": {
      "text/html": [
       "<div>\n",
       "<style scoped>\n",
       "    .dataframe tbody tr th:only-of-type {\n",
       "        vertical-align: middle;\n",
       "    }\n",
       "\n",
       "    .dataframe tbody tr th {\n",
       "        vertical-align: top;\n",
       "    }\n",
       "\n",
       "    .dataframe thead th {\n",
       "        text-align: right;\n",
       "    }\n",
       "</style>\n",
       "<table border=\"1\" class=\"dataframe\">\n",
       "  <thead>\n",
       "    <tr style=\"text-align: right;\">\n",
       "      <th></th>\n",
       "      <th>humidity_Denver</th>\n",
       "      <th>pressure_Denver</th>\n",
       "      <th>temperature_Denver</th>\n",
       "      <th>weather_description_Denver</th>\n",
       "      <th>wind_direction_Denver</th>\n",
       "      <th>wind_speed_Denver</th>\n",
       "    </tr>\n",
       "  </thead>\n",
       "  <tbody>\n",
       "    <tr>\n",
       "      <th>1</th>\n",
       "      <td>62.0</td>\n",
       "      <td>1028.0</td>\n",
       "      <td>284.610000</td>\n",
       "      <td>light rain</td>\n",
       "      <td>20.0</td>\n",
       "      <td>4.0</td>\n",
       "    </tr>\n",
       "    <tr>\n",
       "      <th>2</th>\n",
       "      <td>62.0</td>\n",
       "      <td>1028.0</td>\n",
       "      <td>284.607306</td>\n",
       "      <td>broken clouds</td>\n",
       "      <td>22.0</td>\n",
       "      <td>4.0</td>\n",
       "    </tr>\n",
       "    <tr>\n",
       "      <th>3</th>\n",
       "      <td>62.0</td>\n",
       "      <td>1028.0</td>\n",
       "      <td>284.599918</td>\n",
       "      <td>broken clouds</td>\n",
       "      <td>31.0</td>\n",
       "      <td>3.0</td>\n",
       "    </tr>\n",
       "  </tbody>\n",
       "</table>\n",
       "</div>"
      ],
      "text/plain": [
       "   humidity_Denver  pressure_Denver  temperature_Denver  \\\n",
       "1             62.0           1028.0          284.610000   \n",
       "2             62.0           1028.0          284.607306   \n",
       "3             62.0           1028.0          284.599918   \n",
       "\n",
       "  weather_description_Denver  wind_direction_Denver  wind_speed_Denver  \n",
       "1                 light rain                   20.0                4.0  \n",
       "2              broken clouds                   22.0                4.0  \n",
       "3              broken clouds                   31.0                3.0  "
      ]
     },
     "execution_count": 8,
     "metadata": {},
     "output_type": "execute_result"
    }
   ],
   "source": [
    "denver.head(3)"
   ]
  },
  {
   "cell_type": "code",
   "execution_count": 9,
   "metadata": {},
   "outputs": [
    {
     "data": {
      "text/html": [
       "<div>\n",
       "<style scoped>\n",
       "    .dataframe tbody tr th:only-of-type {\n",
       "        vertical-align: middle;\n",
       "    }\n",
       "\n",
       "    .dataframe tbody tr th {\n",
       "        vertical-align: top;\n",
       "    }\n",
       "\n",
       "    .dataframe thead th {\n",
       "        text-align: right;\n",
       "    }\n",
       "</style>\n",
       "<table border=\"1\" class=\"dataframe\">\n",
       "  <thead>\n",
       "    <tr style=\"text-align: right;\">\n",
       "      <th></th>\n",
       "      <th>humidity_Denver</th>\n",
       "      <th>pressure_Denver</th>\n",
       "      <th>temperature_Denver</th>\n",
       "      <th>wind_direction_Denver</th>\n",
       "      <th>wind_speed_Denver</th>\n",
       "    </tr>\n",
       "  </thead>\n",
       "  <tbody>\n",
       "    <tr>\n",
       "      <th>count</th>\n",
       "      <td>43209.000000</td>\n",
       "      <td>43209.000000</td>\n",
       "      <td>43209.000000</td>\n",
       "      <td>43209.000000</td>\n",
       "      <td>43209.000000</td>\n",
       "    </tr>\n",
       "    <tr>\n",
       "      <th>mean</th>\n",
       "      <td>53.023190</td>\n",
       "      <td>1011.856303</td>\n",
       "      <td>282.886944</td>\n",
       "      <td>185.524335</td>\n",
       "      <td>2.482816</td>\n",
       "    </tr>\n",
       "    <tr>\n",
       "      <th>std</th>\n",
       "      <td>23.895941</td>\n",
       "      <td>42.027940</td>\n",
       "      <td>10.745135</td>\n",
       "      <td>104.086067</td>\n",
       "      <td>2.153799</td>\n",
       "    </tr>\n",
       "    <tr>\n",
       "      <th>min</th>\n",
       "      <td>5.000000</td>\n",
       "      <td>800.000000</td>\n",
       "      <td>247.727667</td>\n",
       "      <td>0.000000</td>\n",
       "      <td>0.000000</td>\n",
       "    </tr>\n",
       "    <tr>\n",
       "      <th>25%</th>\n",
       "      <td>33.000000</td>\n",
       "      <td>1014.000000</td>\n",
       "      <td>275.127000</td>\n",
       "      <td>100.000000</td>\n",
       "      <td>1.000000</td>\n",
       "    </tr>\n",
       "    <tr>\n",
       "      <th>50%</th>\n",
       "      <td>52.000000</td>\n",
       "      <td>1020.000000</td>\n",
       "      <td>283.053000</td>\n",
       "      <td>201.000000</td>\n",
       "      <td>2.000000</td>\n",
       "    </tr>\n",
       "    <tr>\n",
       "      <th>75%</th>\n",
       "      <td>73.000000</td>\n",
       "      <td>1025.000000</td>\n",
       "      <td>290.770000</td>\n",
       "      <td>267.000000</td>\n",
       "      <td>3.000000</td>\n",
       "    </tr>\n",
       "    <tr>\n",
       "      <th>max</th>\n",
       "      <td>100.000000</td>\n",
       "      <td>1089.000000</td>\n",
       "      <td>313.750000</td>\n",
       "      <td>360.000000</td>\n",
       "      <td>22.000000</td>\n",
       "    </tr>\n",
       "  </tbody>\n",
       "</table>\n",
       "</div>"
      ],
      "text/plain": [
       "       humidity_Denver  pressure_Denver  temperature_Denver  \\\n",
       "count     43209.000000     43209.000000        43209.000000   \n",
       "mean         53.023190      1011.856303          282.886944   \n",
       "std          23.895941        42.027940           10.745135   \n",
       "min           5.000000       800.000000          247.727667   \n",
       "25%          33.000000      1014.000000          275.127000   \n",
       "50%          52.000000      1020.000000          283.053000   \n",
       "75%          73.000000      1025.000000          290.770000   \n",
       "max         100.000000      1089.000000          313.750000   \n",
       "\n",
       "       wind_direction_Denver  wind_speed_Denver  \n",
       "count           43209.000000       43209.000000  \n",
       "mean              185.524335           2.482816  \n",
       "std               104.086067           2.153799  \n",
       "min                 0.000000           0.000000  \n",
       "25%               100.000000           1.000000  \n",
       "50%               201.000000           2.000000  \n",
       "75%               267.000000           3.000000  \n",
       "max               360.000000          22.000000  "
      ]
     },
     "execution_count": 9,
     "metadata": {},
     "output_type": "execute_result"
    }
   ],
   "source": [
    "denver.describe()"
   ]
  },
  {
   "cell_type": "code",
   "execution_count": 10,
   "metadata": {},
   "outputs": [],
   "source": [
    "denver.to_csv(\"data/denver_data.csv\", index=False)"
   ]
  }
 ],
 "metadata": {
  "kernelspec": {
   "display_name": "Python 3",
   "language": "python",
   "name": "python3"
  },
  "language_info": {
   "codemirror_mode": {
    "name": "ipython",
    "version": 3
   },
   "file_extension": ".py",
   "mimetype": "text/x-python",
   "name": "python",
   "nbconvert_exporter": "python",
   "pygments_lexer": "ipython3",
   "version": "3.6.0"
  }
 },
 "nbformat": 4,
 "nbformat_minor": 2
}
