{
 "cells": [
  {
   "cell_type": "code",
   "execution_count": 1,
   "metadata": {},
   "outputs": [
    {
     "name": "stderr",
     "output_type": "stream",
     "text": [
      "/home/jhallbe/anaconda3/envs/waldo/lib/python3.5/importlib/_bootstrap.py:222: RuntimeWarning: numpy.dtype size changed, may indicate binary incompatibility. Expected 96, got 88\n",
      "  return f(*args, **kwds)\n",
      "/home/jhallbe/anaconda3/envs/waldo/lib/python3.5/importlib/_bootstrap.py:222: RuntimeWarning: numpy.dtype size changed, may indicate binary incompatibility. Expected 96, got 88\n",
      "  return f(*args, **kwds)\n",
      "/home/jhallbe/anaconda3/envs/waldo/lib/python3.5/importlib/_bootstrap.py:222: RuntimeWarning: numpy.dtype size changed, may indicate binary incompatibility. Expected 96, got 88\n",
      "  return f(*args, **kwds)\n",
      "/home/jhallbe/anaconda3/envs/waldo/lib/python3.5/importlib/_bootstrap.py:222: RuntimeWarning: numpy.dtype size changed, may indicate binary incompatibility. Expected 96, got 88\n",
      "  return f(*args, **kwds)\n",
      "/home/jhallbe/anaconda3/envs/waldo/lib/python3.5/importlib/_bootstrap.py:222: RuntimeWarning: numpy.dtype size changed, may indicate binary incompatibility. Expected 96, got 88\n",
      "  return f(*args, **kwds)\n"
     ]
    }
   ],
   "source": [
    "import pandas as pd\n",
    "import numpy as np\n",
    "import matplotlib.pyplot as plt\n",
    "import seaborn as sns\n",
    "from sklearn.model_selection import train_test_split\n",
    "from mpl_toolkits import mplot3d\n",
    "sns.set()"
   ]
  },
  {
   "cell_type": "markdown",
   "metadata": {},
   "source": [
    "# Load Data"
   ]
  },
  {
   "cell_type": "code",
   "execution_count": 5,
   "metadata": {},
   "outputs": [],
   "source": [
    "def load_data(data_location):\n",
    "    return pd.read_csv(data_location)"
   ]
  },
  {
   "cell_type": "code",
   "execution_count": 6,
   "metadata": {},
   "outputs": [],
   "source": [
    "data_location = \"data/denver_data.csv\"\n",
    "df = load_data(data_location)"
   ]
  },
  {
   "cell_type": "code",
   "execution_count": 7,
   "metadata": {},
   "outputs": [
    {
     "data": {
      "text/html": [
       "<div>\n",
       "<style scoped>\n",
       "    .dataframe tbody tr th:only-of-type {\n",
       "        vertical-align: middle;\n",
       "    }\n",
       "\n",
       "    .dataframe tbody tr th {\n",
       "        vertical-align: top;\n",
       "    }\n",
       "\n",
       "    .dataframe thead th {\n",
       "        text-align: right;\n",
       "    }\n",
       "</style>\n",
       "<table border=\"1\" class=\"dataframe\">\n",
       "  <thead>\n",
       "    <tr style=\"text-align: right;\">\n",
       "      <th></th>\n",
       "      <th>datetime</th>\n",
       "      <th>humidity_Denver</th>\n",
       "      <th>pressure_Denver</th>\n",
       "      <th>temperature_Denver</th>\n",
       "      <th>weather_description_Denver</th>\n",
       "      <th>wind_direction_Denver</th>\n",
       "      <th>wind_speed_Denver</th>\n",
       "    </tr>\n",
       "  </thead>\n",
       "  <tbody>\n",
       "    <tr>\n",
       "      <th>0</th>\n",
       "      <td>2012-10-01 13:00:00</td>\n",
       "      <td>62.0</td>\n",
       "      <td>1028.0</td>\n",
       "      <td>284.610000</td>\n",
       "      <td>light rain</td>\n",
       "      <td>20.0</td>\n",
       "      <td>4.0</td>\n",
       "    </tr>\n",
       "    <tr>\n",
       "      <th>1</th>\n",
       "      <td>2012-10-01 14:00:00</td>\n",
       "      <td>62.0</td>\n",
       "      <td>1028.0</td>\n",
       "      <td>284.607306</td>\n",
       "      <td>broken clouds</td>\n",
       "      <td>22.0</td>\n",
       "      <td>4.0</td>\n",
       "    </tr>\n",
       "    <tr>\n",
       "      <th>2</th>\n",
       "      <td>2012-10-01 15:00:00</td>\n",
       "      <td>62.0</td>\n",
       "      <td>1028.0</td>\n",
       "      <td>284.599918</td>\n",
       "      <td>broken clouds</td>\n",
       "      <td>31.0</td>\n",
       "      <td>3.0</td>\n",
       "    </tr>\n",
       "    <tr>\n",
       "      <th>3</th>\n",
       "      <td>2012-10-01 16:00:00</td>\n",
       "      <td>62.0</td>\n",
       "      <td>1028.0</td>\n",
       "      <td>284.592530</td>\n",
       "      <td>broken clouds</td>\n",
       "      <td>39.0</td>\n",
       "      <td>3.0</td>\n",
       "    </tr>\n",
       "    <tr>\n",
       "      <th>4</th>\n",
       "      <td>2012-10-01 17:00:00</td>\n",
       "      <td>63.0</td>\n",
       "      <td>1028.0</td>\n",
       "      <td>284.585142</td>\n",
       "      <td>broken clouds</td>\n",
       "      <td>47.0</td>\n",
       "      <td>3.0</td>\n",
       "    </tr>\n",
       "  </tbody>\n",
       "</table>\n",
       "</div>"
      ],
      "text/plain": [
       "              datetime  humidity_Denver  pressure_Denver  temperature_Denver  \\\n",
       "0  2012-10-01 13:00:00             62.0           1028.0          284.610000   \n",
       "1  2012-10-01 14:00:00             62.0           1028.0          284.607306   \n",
       "2  2012-10-01 15:00:00             62.0           1028.0          284.599918   \n",
       "3  2012-10-01 16:00:00             62.0           1028.0          284.592530   \n",
       "4  2012-10-01 17:00:00             63.0           1028.0          284.585142   \n",
       "\n",
       "  weather_description_Denver  wind_direction_Denver  wind_speed_Denver  \n",
       "0                 light rain                   20.0                4.0  \n",
       "1              broken clouds                   22.0                4.0  \n",
       "2              broken clouds                   31.0                3.0  \n",
       "3              broken clouds                   39.0                3.0  \n",
       "4              broken clouds                   47.0                3.0  "
      ]
     },
     "execution_count": 7,
     "metadata": {},
     "output_type": "execute_result"
    }
   ],
   "source": [
    "df.head()"
   ]
  },
  {
   "cell_type": "markdown",
   "metadata": {},
   "source": [
    "# Create Series Data"
   ]
  },
  {
   "cell_type": "code",
   "execution_count": 23,
   "metadata": {},
   "outputs": [],
   "source": [
    "def fill_missing_values(data):\n",
    "    while data.shape[0] < 24:\n",
    "    for time in data[\"datetime\"].str:\n",
    "            print(time)\n",
    "    print(data.shape)\n",
    "        \n",
    "    \n",
    "def series(data, time):\n",
    "    # returns 24 hours of series data for a given time.\n",
    "    # time is in the year-month-day format with no hours.\n",
    "    time_series = df.loc[df['datetime'].str.startswith(time)]\n",
    "#     time_series = fill_missing_values(time_series)\n",
    "    \n",
    "    return time_series"
   ]
  },
  {
   "cell_type": "code",
   "execution_count": 24,
   "metadata": {},
   "outputs": [
    {
     "name": "stdout",
     "output_type": "stream",
     "text": [
      "(11, 7)\n"
     ]
    }
   ],
   "source": [
    "fill_missing_values(series(df, \"2012-10-01\"))"
   ]
  },
  {
   "cell_type": "code",
   "execution_count": null,
   "metadata": {},
   "outputs": [],
   "source": []
  }
 ],
 "metadata": {
  "kernelspec": {
   "display_name": "Python 3",
   "language": "python",
   "name": "python3"
  },
  "language_info": {
   "codemirror_mode": {
    "name": "ipython",
    "version": 3
   },
   "file_extension": ".py",
   "mimetype": "text/x-python",
   "name": "python",
   "nbconvert_exporter": "python",
   "pygments_lexer": "ipython3",
   "version": "3.5.5"
  }
 },
 "nbformat": 4,
 "nbformat_minor": 2
}
