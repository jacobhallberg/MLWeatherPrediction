{
 "cells": [
  {
   "cell_type": "code",
   "execution_count": 1,
   "metadata": {},
   "outputs": [
    {
     "name": "stderr",
     "output_type": "stream",
     "text": [
      "/home/jhallbe/anaconda3/envs/waldo/lib/python3.5/importlib/_bootstrap.py:222: RuntimeWarning: numpy.dtype size changed, may indicate binary incompatibility. Expected 96, got 88\n",
      "  return f(*args, **kwds)\n",
      "/home/jhallbe/anaconda3/envs/waldo/lib/python3.5/importlib/_bootstrap.py:222: RuntimeWarning: numpy.dtype size changed, may indicate binary incompatibility. Expected 96, got 88\n",
      "  return f(*args, **kwds)\n",
      "/home/jhallbe/anaconda3/envs/waldo/lib/python3.5/importlib/_bootstrap.py:222: RuntimeWarning: numpy.dtype size changed, may indicate binary incompatibility. Expected 96, got 88\n",
      "  return f(*args, **kwds)\n",
      "/home/jhallbe/anaconda3/envs/waldo/lib/python3.5/importlib/_bootstrap.py:222: RuntimeWarning: numpy.dtype size changed, may indicate binary incompatibility. Expected 96, got 88\n",
      "  return f(*args, **kwds)\n",
      "/home/jhallbe/anaconda3/envs/waldo/lib/python3.5/importlib/_bootstrap.py:222: RuntimeWarning: numpy.dtype size changed, may indicate binary incompatibility. Expected 96, got 88\n",
      "  return f(*args, **kwds)\n"
     ]
    }
   ],
   "source": [
    "import pandas as pd\n",
    "import numpy as np\n",
    "import matplotlib.pyplot as plt\n",
    "import seaborn as sns\n",
    "from sklearn.model_selection import train_test_split\n",
    "from mpl_toolkits import mplot3d\n",
    "sns.set()"
   ]
  },
  {
   "cell_type": "markdown",
   "metadata": {},
   "source": [
    "# Load Data"
   ]
  },
  {
   "cell_type": "code",
   "execution_count": 168,
   "metadata": {},
   "outputs": [],
   "source": [
    "def load_data(data_location):\n",
    "    return pd.read_csv(data_location)"
   ]
  },
  {
   "cell_type": "code",
   "execution_count": 169,
   "metadata": {},
   "outputs": [],
   "source": [
    "data_location = \"data/denver_data.csv\"\n",
    "df = load_data(data_location)"
   ]
  },
  {
   "cell_type": "code",
   "execution_count": 170,
   "metadata": {},
   "outputs": [
    {
     "data": {
      "text/html": [
       "<div>\n",
       "<style scoped>\n",
       "    .dataframe tbody tr th:only-of-type {\n",
       "        vertical-align: middle;\n",
       "    }\n",
       "\n",
       "    .dataframe tbody tr th {\n",
       "        vertical-align: top;\n",
       "    }\n",
       "\n",
       "    .dataframe thead th {\n",
       "        text-align: right;\n",
       "    }\n",
       "</style>\n",
       "<table border=\"1\" class=\"dataframe\">\n",
       "  <thead>\n",
       "    <tr style=\"text-align: right;\">\n",
       "      <th></th>\n",
       "      <th>datetime</th>\n",
       "      <th>humidity_Denver</th>\n",
       "      <th>pressure_Denver</th>\n",
       "      <th>temperature_Denver</th>\n",
       "      <th>weather_description_Denver</th>\n",
       "      <th>wind_direction_Denver</th>\n",
       "      <th>wind_speed_Denver</th>\n",
       "    </tr>\n",
       "  </thead>\n",
       "  <tbody>\n",
       "    <tr>\n",
       "      <th>0</th>\n",
       "      <td>2012-10-01 13:00:00</td>\n",
       "      <td>62.0</td>\n",
       "      <td>1028.0</td>\n",
       "      <td>284.610000</td>\n",
       "      <td>light rain</td>\n",
       "      <td>20.0</td>\n",
       "      <td>4.0</td>\n",
       "    </tr>\n",
       "    <tr>\n",
       "      <th>1</th>\n",
       "      <td>2012-10-01 14:00:00</td>\n",
       "      <td>62.0</td>\n",
       "      <td>1028.0</td>\n",
       "      <td>284.607306</td>\n",
       "      <td>broken clouds</td>\n",
       "      <td>22.0</td>\n",
       "      <td>4.0</td>\n",
       "    </tr>\n",
       "    <tr>\n",
       "      <th>2</th>\n",
       "      <td>2012-10-01 15:00:00</td>\n",
       "      <td>62.0</td>\n",
       "      <td>1028.0</td>\n",
       "      <td>284.599918</td>\n",
       "      <td>broken clouds</td>\n",
       "      <td>31.0</td>\n",
       "      <td>3.0</td>\n",
       "    </tr>\n",
       "    <tr>\n",
       "      <th>3</th>\n",
       "      <td>2012-10-01 16:00:00</td>\n",
       "      <td>62.0</td>\n",
       "      <td>1028.0</td>\n",
       "      <td>284.592530</td>\n",
       "      <td>broken clouds</td>\n",
       "      <td>39.0</td>\n",
       "      <td>3.0</td>\n",
       "    </tr>\n",
       "    <tr>\n",
       "      <th>4</th>\n",
       "      <td>2012-10-01 17:00:00</td>\n",
       "      <td>63.0</td>\n",
       "      <td>1028.0</td>\n",
       "      <td>284.585142</td>\n",
       "      <td>broken clouds</td>\n",
       "      <td>47.0</td>\n",
       "      <td>3.0</td>\n",
       "    </tr>\n",
       "  </tbody>\n",
       "</table>\n",
       "</div>"
      ],
      "text/plain": [
       "              datetime  humidity_Denver  pressure_Denver  temperature_Denver  \\\n",
       "0  2012-10-01 13:00:00             62.0           1028.0          284.610000   \n",
       "1  2012-10-01 14:00:00             62.0           1028.0          284.607306   \n",
       "2  2012-10-01 15:00:00             62.0           1028.0          284.599918   \n",
       "3  2012-10-01 16:00:00             62.0           1028.0          284.592530   \n",
       "4  2012-10-01 17:00:00             63.0           1028.0          284.585142   \n",
       "\n",
       "  weather_description_Denver  wind_direction_Denver  wind_speed_Denver  \n",
       "0                 light rain                   20.0                4.0  \n",
       "1              broken clouds                   22.0                4.0  \n",
       "2              broken clouds                   31.0                3.0  \n",
       "3              broken clouds                   39.0                3.0  \n",
       "4              broken clouds                   47.0                3.0  "
      ]
     },
     "execution_count": 170,
     "metadata": {},
     "output_type": "execute_result"
    }
   ],
   "source": [
    "df.head()"
   ]
  },
  {
   "cell_type": "markdown",
   "metadata": {},
   "source": [
    "# Create Series Data"
   ]
  },
  {
   "cell_type": "code",
   "execution_count": 183,
   "metadata": {},
   "outputs": [],
   "source": [
    "def find_unique_year_month_day(data):\n",
    "    unique_year_month_day = []\n",
    "    \n",
    "    for date in data[\"datetime\"]:\n",
    "        year_month_day = date.split(\" \")[0]\n",
    "        if year_month_day not in unique_year_month_day:\n",
    "            unique_year_month_day.append(year_month_day)\n",
    "\n",
    "    return unique_year_month_day\n",
    "        \n",
    "def fill_missing_values(data):\n",
    "    year_month_day = data[\"datetime\"].values[0].split(\" \")[0]\n",
    "    \n",
    "    hours = []\n",
    "    for i in range(24):\n",
    "        if i < 10: hour = \"0\" + str(i)\n",
    "        else: hour = str(i)\n",
    "            \n",
    "        hours.append(year_month_day + \" \" + hour + \":00:00\")\n",
    "    \n",
    "    return data.set_index('datetime').reindex(hours).fillna(0).reset_index()\n",
    "        \n",
    "    \n",
    "def series(data, time):\n",
    "    # returns 24 hours of series data for a given time.\n",
    "    # time is in the year-month-day format with no hours.\n",
    "    time_series = df.loc[df['datetime'].str.startswith(time)]\n",
    "    time_series = fill_missing_values(time_series)\n",
    "    \n",
    "    return time_series"
   ]
  },
  {
   "cell_type": "code",
   "execution_count": 185,
   "metadata": {},
   "outputs": [],
   "source": [
    "unique_year_month_day = sorted(find_unique_year_month_day(df))"
   ]
  },
  {
   "cell_type": "code",
   "execution_count": 186,
   "metadata": {},
   "outputs": [],
   "source": [
    "series_data = pd.DataFrame(columns=df.columns)\n",
    "\n",
    "for year_month_day in unique_year_month_day:\n",
    "    series_data = series_data.append(series(df, year_month_day))"
   ]
  },
  {
   "cell_type": "code",
   "execution_count": 200,
   "metadata": {},
   "outputs": [
    {
     "data": {
      "text/html": [
       "<div>\n",
       "<style scoped>\n",
       "    .dataframe tbody tr th:only-of-type {\n",
       "        vertical-align: middle;\n",
       "    }\n",
       "\n",
       "    .dataframe tbody tr th {\n",
       "        vertical-align: top;\n",
       "    }\n",
       "\n",
       "    .dataframe thead th {\n",
       "        text-align: right;\n",
       "    }\n",
       "</style>\n",
       "<table border=\"1\" class=\"dataframe\">\n",
       "  <thead>\n",
       "    <tr style=\"text-align: right;\">\n",
       "      <th></th>\n",
       "      <th>datetime</th>\n",
       "      <th>humidity_Denver</th>\n",
       "      <th>pressure_Denver</th>\n",
       "      <th>temperature_Denver</th>\n",
       "      <th>weather_description_Denver</th>\n",
       "      <th>wind_direction_Denver</th>\n",
       "      <th>wind_speed_Denver</th>\n",
       "    </tr>\n",
       "  </thead>\n",
       "  <tbody>\n",
       "    <tr>\n",
       "      <th>0</th>\n",
       "      <td>2012-10-01 00:00:00</td>\n",
       "      <td>0.0</td>\n",
       "      <td>0.0</td>\n",
       "      <td>0.0</td>\n",
       "      <td>0</td>\n",
       "      <td>0.0</td>\n",
       "      <td>0.0</td>\n",
       "    </tr>\n",
       "    <tr>\n",
       "      <th>1</th>\n",
       "      <td>2012-10-01 01:00:00</td>\n",
       "      <td>0.0</td>\n",
       "      <td>0.0</td>\n",
       "      <td>0.0</td>\n",
       "      <td>0</td>\n",
       "      <td>0.0</td>\n",
       "      <td>0.0</td>\n",
       "    </tr>\n",
       "    <tr>\n",
       "      <th>2</th>\n",
       "      <td>2012-10-01 02:00:00</td>\n",
       "      <td>0.0</td>\n",
       "      <td>0.0</td>\n",
       "      <td>0.0</td>\n",
       "      <td>0</td>\n",
       "      <td>0.0</td>\n",
       "      <td>0.0</td>\n",
       "    </tr>\n",
       "    <tr>\n",
       "      <th>3</th>\n",
       "      <td>2012-10-01 03:00:00</td>\n",
       "      <td>0.0</td>\n",
       "      <td>0.0</td>\n",
       "      <td>0.0</td>\n",
       "      <td>0</td>\n",
       "      <td>0.0</td>\n",
       "      <td>0.0</td>\n",
       "    </tr>\n",
       "    <tr>\n",
       "      <th>4</th>\n",
       "      <td>2012-10-01 04:00:00</td>\n",
       "      <td>0.0</td>\n",
       "      <td>0.0</td>\n",
       "      <td>0.0</td>\n",
       "      <td>0</td>\n",
       "      <td>0.0</td>\n",
       "      <td>0.0</td>\n",
       "    </tr>\n",
       "  </tbody>\n",
       "</table>\n",
       "</div>"
      ],
      "text/plain": [
       "              datetime  humidity_Denver  pressure_Denver  temperature_Denver  \\\n",
       "0  2012-10-01 00:00:00              0.0              0.0                 0.0   \n",
       "1  2012-10-01 01:00:00              0.0              0.0                 0.0   \n",
       "2  2012-10-01 02:00:00              0.0              0.0                 0.0   \n",
       "3  2012-10-01 03:00:00              0.0              0.0                 0.0   \n",
       "4  2012-10-01 04:00:00              0.0              0.0                 0.0   \n",
       "\n",
       "  weather_description_Denver  wind_direction_Denver  wind_speed_Denver  \n",
       "0                          0                    0.0                0.0  \n",
       "1                          0                    0.0                0.0  \n",
       "2                          0                    0.0                0.0  \n",
       "3                          0                    0.0                0.0  \n",
       "4                          0                    0.0                0.0  "
      ]
     },
     "execution_count": 200,
     "metadata": {},
     "output_type": "execute_result"
    }
   ],
   "source": [
    "series_data.head()"
   ]
  },
  {
   "cell_type": "code",
   "execution_count": 213,
   "metadata": {},
   "outputs": [],
   "source": [
    "def description_values(data):\n",
    "    categorical_values = {}\n",
    "    categorical_value = 1\n",
    "    for weather_description in data[\"weather_description_Denver\"]:\n",
    "        if weather_description != '0' and weather_description not in categorical_values:\n",
    "            categorical_values[weather_description] = categorical_value\n",
    "            categorical_value += 1\n",
    "    return categorical_values"
   ]
  },
  {
   "cell_type": "code",
   "execution_count": 217,
   "metadata": {
    "scrolled": true
   },
   "outputs": [
    {
     "data": {
      "text/plain": [
       "{'broken clouds': 2,\n",
       " 'drizzle': 19,\n",
       " 'dust': 26,\n",
       " 'few clouds': 5,\n",
       " 'fog': 13,\n",
       " 'haze': 11,\n",
       " 'heavy intensity drizzle': 32,\n",
       " 'heavy intensity rain': 18,\n",
       " 'heavy snow': 9,\n",
       " 'light intensity drizzle': 16,\n",
       " 'light intensity shower rain': 23,\n",
       " 'light rain': 1,\n",
       " 'light rain and snow': 31,\n",
       " 'light snow': 14,\n",
       " 'mist': 10,\n",
       " 'moderate rain': 21,\n",
       " 'overcast clouds': 8,\n",
       " 'proximity shower rain': 3,\n",
       " 'proximity thunderstorm': 12,\n",
       " 'proximity thunderstorm with rain': 28,\n",
       " 'ragged thunderstorm': 34,\n",
       " 'scattered clouds': 4,\n",
       " 'shower rain': 29,\n",
       " 'sky is clear': 6,\n",
       " 'smoke': 24,\n",
       " 'snow': 15,\n",
       " 'squalls': 7,\n",
       " 'thunderstorm': 20,\n",
       " 'thunderstorm with heavy drizzle': 33,\n",
       " 'thunderstorm with heavy rain': 25,\n",
       " 'thunderstorm with light drizzle': 30,\n",
       " 'thunderstorm with light rain': 22,\n",
       " 'thunderstorm with rain': 17,\n",
       " 'very heavy rain': 27}"
      ]
     },
     "execution_count": 217,
     "metadata": {},
     "output_type": "execute_result"
    }
   ],
   "source": [
    "categorical_values = description_values(series_data)\n",
    "categorical_values"
   ]
  },
  {
   "cell_type": "code",
   "execution_count": 221,
   "metadata": {},
   "outputs": [],
   "source": [
    "series_data[\"weather_description_Denver\"].replace(categorical_values, inplace=True)"
   ]
  },
  {
   "cell_type": "code",
   "execution_count": 222,
   "metadata": {},
   "outputs": [],
   "source": [
    "series_data.to_csv(\"data/denver_series_data.csv\", index=False)"
   ]
  }
 ],
 "metadata": {
  "kernelspec": {
   "display_name": "Python 3",
   "language": "python",
   "name": "python3"
  },
  "language_info": {
   "codemirror_mode": {
    "name": "ipython",
    "version": 3
   },
   "file_extension": ".py",
   "mimetype": "text/x-python",
   "name": "python",
   "nbconvert_exporter": "python",
   "pygments_lexer": "ipython3",
   "version": "3.5.5"
  }
 },
 "nbformat": 4,
 "nbformat_minor": 2
}
