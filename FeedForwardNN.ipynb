{
 "cells": [
  {
   "cell_type": "code",
   "execution_count": null,
   "metadata": {},
   "outputs": [
    {
     "data": {
      "application/vnd.jupyter.widget-view+json": {
       "model_id": "72c73299564e40ada95f7c03c10d8837",
       "version_major": 2,
       "version_minor": 0
      },
      "text/plain": [
       "HBox(children=(IntProgress(value=0), HTML(value='')))"
      ]
     },
     "metadata": {},
     "output_type": "display_data"
    },
    {
     "data": {
      "application/vnd.jupyter.widget-view+json": {
       "model_id": "1eafbc9a957841d68cead8ebe7ff87d8",
       "version_major": 2,
       "version_minor": 0
      },
      "text/plain": [
       "HBox(children=(IntProgress(value=0), HTML(value='')))"
      ]
     },
     "metadata": {},
     "output_type": "display_data"
    },
    {
     "name": "stderr",
     "output_type": "stream",
     "text": [
      "/anaconda3/lib/python3.6/site-packages/ipykernel_launcher.py:43: UserWarning: invalid index of a 0-dim tensor. This will be an error in PyTorch 0.5. Use tensor.item() to convert a 0-dim tensor to a Python number\n"
     ]
    }
   ],
   "source": [
    "import torch\n",
    "from torch.nn import Linear, ReLU, Softmax\n",
    "from torch.utils.data import Dataset, DataLoader\n",
    "from load_data import load_normalized_data\n",
    "from torch.nn.functional import relu, softmax\n",
    "from tqdm import tqdm_notebook, tqdm\n",
    "from IPython.display import clear_output\n",
    "\n",
    "X_train, X_test, y_train, y_test, num_classes, class_weights = load_normalized_data(\"data/denver_data.csv\", \"weather_description_Denver\")\n",
    "                                                                                    \n",
    "\n",
    "class NeuralNet(torch.nn.Module):\n",
    "    def __init__(self, input_dim, output_dim):\n",
    "        super(NeuralNet, self).__init__()\n",
    "        self.input_layer = Linear(input_dim, 50)\n",
    "        self.hidden_layer1 = Linear(50, 100)                                                                             \n",
    "        self.hidden_layer2 = Linear(100, 200)                                                                             \n",
    "        self.output_layer = Linear(200, output_dim)   \n",
    "        # ReLu activation, max of 0 and x, automatic differentiation                                                                             \n",
    "        self.relu = ReLU()   \n",
    "                                                                                    \n",
    "    \"\"\"\n",
    "    [input_dim x 50] -> [50 x 100] -> [100 x 200] -> [200 x output_dim]\n",
    "    \"\"\"                                                                             \n",
    "    def forward(self, input_data):  \n",
    "        input_layer_output = self.relu(self.input_layer(input_data))                                                                              \n",
    "        hidden_layer_output1 = self.relu(self.hidden_layer1(input_layer_output))                                                                             \n",
    "        hidden_layer_output2 = self.relu(self.hidden_layer2(hidden_layer_output1))\n",
    "        output_layer_output = self.output_layer(hidden_layer_output2)                                                                     \n",
    "        return output_layer_output\n",
    "\n",
    "class DenverDataset(Dataset):\n",
    "    \"\"\"Denver Hourly Weather Dataset.\"\"\"\n",
    "\n",
    "    def __init__(self, X_data, y_data):\n",
    "        self.X_data = X_data\n",
    "        self.y_data = y_data\n",
    "        \n",
    "    def __len__(self):\n",
    "        return self.X_data.shape[0]\n",
    "\n",
    "    def __getitem__(self, idx):\n",
    "        return self.X_data[idx], self.y_data[idx][0]                                                  \n",
    "def train(X_train, X_test, y_train, y_test, num_classes, class_weights, epochs, batchSize):\n",
    "\n",
    "    X_train = torch.tensor(X_train, requires_grad=True, dtype=torch.float)\n",
    "    y_train = torch.tensor(y_train, dtype=torch.long)\n",
    "    X_test = torch.tensor(X_test, requires_grad=True, dtype=torch.float)\n",
    "    y_test = torch.tensor(y_test, dtype=torch.long) \n",
    "    \n",
    "    training_set = DataLoader(DenverDataset(X_train, y_train), batch_size=batchSize, shuffle=True)\n",
    "    # Define Hyperparams \t                                     \n",
    "\n",
    "    # Initalize neural network\n",
    "    model = NeuralNet(X_train.shape[1], num_classes)\n",
    "    # Calculating the entropy loss using logSoftmax and ngeative log likelihood loss\n",
    "    criterion = torch.nn.CrossEntropyLoss(weight=torch.tensor(class_weights, dtype=torch.float))\n",
    "\n",
    "    #tqdm -> loading progress bar                                 \n",
    "    loop = tqdm_notebook(range(epochs))\n",
    "\n",
    "    for epoch in tqdm_notebook(range(epochs)):\n",
    "        running_loss = 0.0\n",
    "\n",
    "        for i, data in enumerate(training_set):\n",
    "            inputs, labels = data\n",
    "            optimizer.zero_grad()\n",
    "            outputs = model(inputs)\n",
    "            loss = criterion(outputs, labels)\n",
    "            loss.backward()\n",
    "            optimizer.step()                      \n",
    "train(X_train, X_test, y_train, y_test, num_classes, class_weights, 100, 400)\n",
    "\n"
   ]
  },
  {
   "cell_type": "code",
   "execution_count": null,
   "metadata": {},
   "outputs": [],
   "source": []
  }
 ],
 "metadata": {
  "kernelspec": {
   "display_name": "Python 3",
   "language": "python",
   "name": "python3"
  },
  "language_info": {
   "codemirror_mode": {
    "name": "ipython",
    "version": 3
   },
   "file_extension": ".py",
   "mimetype": "text/x-python",
   "name": "python",
   "nbconvert_exporter": "python",
   "pygments_lexer": "ipython3",
   "version": "3.6.5"
  }
 },
 "nbformat": 4,
 "nbformat_minor": 2
}
