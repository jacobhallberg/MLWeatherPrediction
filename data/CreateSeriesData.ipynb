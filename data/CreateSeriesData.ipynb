{
 "cells": [
  {
   "cell_type": "code",
   "execution_count": null,
   "metadata": {},
   "outputs": [],
   "source": [
    "import pandas as pd\n",
    "import numpy as np\n",
    "import matplotlib.pyplot as plt\n",
    "import seaborn as sns\n",
    "from sklearn.model_selection import train_test_split\n",
    "from mpl_toolkits import mplot3d\n",
    "sns.set()"
   ]
  },
  {
   "cell_type": "markdown",
   "metadata": {},
   "source": [
    "# Load Data"
   ]
  },
  {
   "cell_type": "code",
   "execution_count": null,
   "metadata": {},
   "outputs": [],
   "source": [
    "def load_data(data_location):\n",
    "    return pd.read_csv(data_location)"
   ]
  },
  {
   "cell_type": "code",
   "execution_count": null,
   "metadata": {},
   "outputs": [],
   "source": [
    "data_location = \"data/denver_data.csv\"\n",
    "df = load_data(data_location)"
   ]
  },
  {
   "cell_type": "code",
   "execution_count": null,
   "metadata": {},
   "outputs": [],
   "source": [
    "df.head()"
   ]
  },
  {
   "cell_type": "markdown",
   "metadata": {},
   "source": [
    "# Create Series Data"
   ]
  },
  {
   "cell_type": "code",
   "execution_count": null,
   "metadata": {},
   "outputs": [],
   "source": [
    "def find_unique_year_month_day(data):\n",
    "    unique_year_month_day = []\n",
    "    \n",
    "    for date in data[\"datetime\"]:\n",
    "        year_month_day = date.split(\" \")[0]\n",
    "        if year_month_day not in unique_year_month_day:\n",
    "            unique_year_month_day.append(year_month_day)\n",
    "\n",
    "    return unique_year_month_day\n",
    "        \n",
    "def fill_missing_values(data):\n",
    "    year_month_day = data[\"datetime\"].values[0].split(\" \")[0]\n",
    "    \n",
    "    hours = []\n",
    "    for i in range(24):\n",
    "        if i < 10: hour = \"0\" + str(i)\n",
    "        else: hour = str(i)\n",
    "            \n",
    "        hours.append(year_month_day + \" \" + hour + \":00:00\")\n",
    "    \n",
    "    return data.set_index('datetime').reindex(hours).fillna(0).reset_index()\n",
    "        \n",
    "    \n",
    "def series(data, time):\n",
    "    # returns 24 hours of series data for a given time.\n",
    "    # time is in the year-month-day format with no hours.\n",
    "    time_series = df.loc[df['datetime'].str.startswith(time)]\n",
    "    time_series = fill_missing_values(time_series)\n",
    "    \n",
    "    return time_series"
   ]
  },
  {
   "cell_type": "code",
   "execution_count": null,
   "metadata": {},
   "outputs": [],
   "source": [
    "unique_year_month_day = sorted(find_unique_year_month_day(df))"
   ]
  },
  {
   "cell_type": "code",
   "execution_count": null,
   "metadata": {},
   "outputs": [],
   "source": [
    "series_data = pd.DataFrame(columns=df.columns)\n",
    "\n",
    "for year_month_day in unique_year_month_day:\n",
    "    series_data = series_data.append(series(df, year_month_day))"
   ]
  },
  {
   "cell_type": "code",
   "execution_count": null,
   "metadata": {},
   "outputs": [],
   "source": [
    "series_data.head()"
   ]
  },
  {
   "cell_type": "code",
   "execution_count": null,
   "metadata": {},
   "outputs": [],
   "source": [
    "def description_values(data):\n",
    "    categorical_values = {}\n",
    "    categorical_value = 1\n",
    "    for weather_description in data[\"weather_description_Denver\"]:\n",
    "        if weather_description != '0' and weather_description not in categorical_values:\n",
    "            categorical_values[weather_description] = categorical_value\n",
    "            categorical_value += 1\n",
    "    return categorical_values"
   ]
  },
  {
   "cell_type": "code",
   "execution_count": null,
   "metadata": {
    "scrolled": true
   },
   "outputs": [],
   "source": [
    "categorical_values = description_values(series_data)\n",
    "categorical_values"
   ]
  },
  {
   "cell_type": "code",
   "execution_count": null,
   "metadata": {},
   "outputs": [],
   "source": [
    "series_data[\"weather_description_Denver\"].replace(categorical_values, inplace=True)"
   ]
  },
  {
   "cell_type": "code",
   "execution_count": null,
   "metadata": {},
   "outputs": [],
   "source": [
    "series_data.to_csv(\"data/denver_series_data.csv\", index=False)"
   ]
  }
 ],
 "metadata": {
  "kernelspec": {
   "display_name": "Python 3",
   "language": "python",
   "name": "python3"
  },
  "language_info": {
   "codemirror_mode": {
    "name": "ipython",
    "version": 3
   },
   "file_extension": ".py",
   "mimetype": "text/x-python",
   "name": "python",
   "nbconvert_exporter": "python",
   "pygments_lexer": "ipython3",
   "version": "3.6.7"
  }
 },
 "nbformat": 4,
 "nbformat_minor": 2
}
