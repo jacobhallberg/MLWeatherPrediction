{
 "cells": [
  {
   "cell_type": "markdown",
   "metadata": {},
   "source": [
    "### This notebook was created to teach the other team members about Pytorch, neural networks, and how to combine the two to get a working model."
   ]
  },
  {
   "cell_type": "markdown",
   "metadata": {},
   "source": [
    "# Imports"
   ]
  },
  {
   "cell_type": "code",
   "execution_count": 50,
   "metadata": {},
   "outputs": [
    {
     "name": "stdout",
     "output_type": "stream",
     "text": [
      "The autoreload extension is already loaded. To reload it, use:\n",
      "  %reload_ext autoreload\n"
     ]
    }
   ],
   "source": [
    "%load_ext autoreload\n",
    "%autoreload 2\n",
    "import torch\n",
    "from torch.nn import Linear, ReLU, Softmax\n",
    "from torch.utils.data import Dataset, DataLoader\n",
    "from load_data import load_normalized_data\n",
    "from torch.nn.functional import relu, softmax\n",
    "from tqdm import tqdm_notebook, tqdm\n",
    "from IPython.display import clear_output"
   ]
  },
  {
   "cell_type": "markdown",
   "metadata": {},
   "source": [
    "# Model Creation"
   ]
  },
  {
   "cell_type": "code",
   "execution_count": 28,
   "metadata": {},
   "outputs": [],
   "source": [
    "class BasicMLP(torch.nn.Module):\n",
    "    def __init__(self, input_dimensions, output_dimensions):\n",
    "        super(BasicMLP, self).__init__()\n",
    "        # Params: [0] = Input size to that layer. [1] = Number of nodes in that layer.\n",
    "        self.input_layer = Linear(input_dimensions, 50)\n",
    "        self.hidden_layer1 = Linear(50, 100)\n",
    "        self.hidden_layer2 = Linear(100, 200)\n",
    "        self.output_layer = Linear(200, output_dimensions)\n",
    "        self.relu = ReLU()\n",
    "        \n",
    "    def forward(self, input_data):\n",
    "        input_layer_output = self.relu(self.input_layer(input_data))\n",
    "        hidden_layer_output1 = self.relu(self.hidden_layer1(input_layer_output))\n",
    "        hidden_layer_output2 = self.relu(self.hidden_layer2(hidden_layer_output1))\n",
    "        output_layer_output = self.output_layer(hidden_layer_output2)\n",
    "        \n",
    "        return output_layer_output"
   ]
  },
  {
   "cell_type": "markdown",
   "metadata": {},
   "source": [
    "# Data Loader"
   ]
  },
  {
   "cell_type": "code",
   "execution_count": 29,
   "metadata": {},
   "outputs": [],
   "source": [
    "class DenverDataset(Dataset):\n",
    "    \"\"\"Denver Hourly Weather Dataset.\"\"\"\n",
    "\n",
    "    def __init__(self, X_data, y_data):\n",
    "        self.X_data = X_data\n",
    "        self.y_data = y_data\n",
    "        \n",
    "    def __len__(self):\n",
    "        return self.X_data.shape[0]\n",
    "\n",
    "    def __getitem__(self, idx):\n",
    "        return self.X_data[idx], self.y_data[idx][0]"
   ]
  },
  {
   "cell_type": "markdown",
   "metadata": {},
   "source": [
    "# Load Data"
   ]
  },
  {
   "cell_type": "code",
   "execution_count": 51,
   "metadata": {},
   "outputs": [],
   "source": [
    "X_train, X_test, y_train, y_test, num_classes, class_weights = load_normalized_data(\"data/denver_data.csv\", \"weather_description_Denver\")"
   ]
  },
  {
   "cell_type": "markdown",
   "metadata": {},
   "source": [
    "### Convert to torch objects."
   ]
  },
  {
   "cell_type": "code",
   "execution_count": 53,
   "metadata": {},
   "outputs": [],
   "source": [
    "X_train = torch.tensor(X_train, requires_grad=True, dtype=torch.float).cuda()\n",
    "y_train = torch.tensor(y_train, dtype=torch.long).cuda()\n",
    "X_test = torch.tensor(X_test, requires_grad=True, dtype=torch.float).cuda()\n",
    "y_test = torch.tensor(y_test,  dtype=torch.long).cuda()"
   ]
  },
  {
   "cell_type": "markdown",
   "metadata": {},
   "source": [
    "### Create Dataset"
   ]
  },
  {
   "cell_type": "code",
   "execution_count": 54,
   "metadata": {},
   "outputs": [],
   "source": [
    "batch_size = 400\n",
    "training_set = DataLoader(DenverDataset(X_train, y_train), batch_size=batch_size, shuffle=True)"
   ]
  },
  {
   "cell_type": "markdown",
   "metadata": {},
   "source": [
    "# Train Model"
   ]
  },
  {
   "cell_type": "markdown",
   "metadata": {},
   "source": [
    "### Define Hyperparameters"
   ]
  },
  {
   "cell_type": "code",
   "execution_count": 58,
   "metadata": {},
   "outputs": [],
   "source": [
    "def accuracy(outputs, targets):\n",
    "    indices = torch.argmax(softmax(outputs, dim=1), 1)\n",
    "    batch_size = indices.shape[0]\n",
    "\n",
    "    num_correct = targets.eq(indices).sum()\n",
    "    accuracy = (num_correct.item() / batch_size) * 100\n",
    "    \n",
    "    return accuracy"
   ]
  },
  {
   "cell_type": "code",
   "execution_count": 68,
   "metadata": {},
   "outputs": [],
   "source": [
    "epochs = 100\n",
    "model = BasicMLP(X_train.shape[1], num_classes).cuda() \n",
    "criterion = torch.nn.CrossEntropyLoss(weight=torch.tensor(class_weights, dtype=torch.float).cuda())\n",
    "optimizer = torch.optim.Adam(model.parameters(), lr=1e-3)"
   ]
  },
  {
   "cell_type": "markdown",
   "metadata": {},
   "source": [
    "### Training Loop"
   ]
  },
  {
   "cell_type": "code",
   "execution_count": 72,
   "metadata": {},
   "outputs": [
    {
     "data": {
      "text/latex": [
       "\\begin{align}\n",
       "    W_{new} = W_{old} - L * (\\frac{\\partial E}{\\partial W})\n",
       "\\end{align}"
      ],
      "text/plain": [
       "<IPython.core.display.Latex object>"
      ]
     },
     "metadata": {},
     "output_type": "display_data"
    }
   ],
   "source": [
    "%%latex\n",
    "\\begin{align}\n",
    "    W_{new} = W_{old} - L * (\\frac{\\partial E}{\\partial W})\n",
    "\\end{align}"
   ]
  },
  {
   "cell_type": "code",
   "execution_count": 69,
   "metadata": {},
   "outputs": [
    {
     "data": {
      "application/vnd.jupyter.widget-view+json": {
       "model_id": "98d8aa2693bc40cb86a6d5e0a51e009c",
       "version_major": 2,
       "version_minor": 0
      },
      "text/plain": [
       "HBox(children=(IntProgress(value=0), HTML(value='')))"
      ]
     },
     "metadata": {},
     "output_type": "display_data"
    },
    {
     "data": {
      "application/vnd.jupyter.widget-view+json": {
       "model_id": "db5698a037794fe59920a73e47c1477a",
       "version_major": 2,
       "version_minor": 0
      },
      "text/plain": [
       "HBox(children=(IntProgress(value=0), HTML(value='')))"
      ]
     },
     "metadata": {},
     "output_type": "display_data"
    },
    {
     "name": "stderr",
     "output_type": "stream",
     "text": [
      "/home/jhallbe/.local/lib/python3.6/site-packages/ipykernel_launcher.py:12: UserWarning: invalid index of a 0-dim tensor. This will be an error in PyTorch 0.5. Use tensor.item() to convert a 0-dim tensor to a Python number\n",
      "  if sys.path[0] == '':\n"
     ]
    },
    {
     "name": "stdout",
     "output_type": "stream",
     "text": [
      "Finished Training\n"
     ]
    }
   ],
   "source": [
    "loop = tqdm_notebook(range(epochs))\n",
    "for epoch in tqdm_notebook(range(epochs)):\n",
    "    running_loss = 0.0\n",
    "    \n",
    "    for i, data in enumerate(training_set):\n",
    "        # Get data from batch.\n",
    "        inputs, labels = data\n",
    "\n",
    "        # Pytorch doesn't zero the grads for you. Do it.\n",
    "        optimizer.zero_grad()\n",
    "    \n",
    "        # Run the input data through the model to get the outputs.\n",
    "        outputs = model(inputs)\n",
    "        \n",
    "        # Compare outputs to real labels.\n",
    "        loss = criterion(outputs, labels)\n",
    "        \n",
    "        # Propagate loss back through the network and perform weight updates.\n",
    "            # Sum up the loss WRT the weights of the network.\n",
    "        loss.backward()\n",
    "        \n",
    "            # Update the weights.\n",
    "        optimizer.step()\n",
    "\n",
    "        if not i % 20:\n",
    "            loop.set_description(\"Accuracy: {}%\".format(accuracy(outputs, labels)))\n",
    "\n",
    "\n",
    "print('Finished Training')\n"
   ]
  },
  {
   "cell_type": "code",
   "execution_count": 67,
   "metadata": {},
   "outputs": [],
   "source": [
    "# print('Final Loss: ', running_loss / )\n",
    "#             loop.refresh()\n",
    "        # print statistics\n",
    "#         running_loss += loss.item()\n",
    "#         if i % 20 == 1999:    # print every 2000 mini-batches\n",
    "#             print('[%d, %5d] loss: %.3f' %\n",
    "#                   (epoch + 1, i + 1, running_loss / 2000))\n",
    "#             running_loss = 0.0"
   ]
  }
 ],
 "metadata": {
  "kernelspec": {
   "display_name": "Python 3",
   "language": "python",
   "name": "python3"
  },
  "language_info": {
   "codemirror_mode": {
    "name": "ipython",
    "version": 3
   },
   "file_extension": ".py",
   "mimetype": "text/x-python",
   "name": "python",
   "nbconvert_exporter": "python",
   "pygments_lexer": "ipython3",
   "version": "3.6.7"
  }
 },
 "nbformat": 4,
 "nbformat_minor": 2
}
