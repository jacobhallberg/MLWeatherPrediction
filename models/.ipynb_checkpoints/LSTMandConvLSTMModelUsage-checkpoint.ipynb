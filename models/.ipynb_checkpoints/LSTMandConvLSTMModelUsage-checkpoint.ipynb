{
 "cells": [
  {
   "cell_type": "code",
   "execution_count": 4,
   "metadata": {},
   "outputs": [],
   "source": [
    "from tensorflow import keras\n",
    "from keras.models import Sequential\n",
    "from keras.layers import Dropout, Dense, CuDNNLSTM, Activation, Masking, LSTM, Conv1D\n",
    "from keras.optimizers import Adam\n",
    "from keras.utils import to_categorical\n",
    "import pandas as pd\n",
    "import numpy as np\n",
    "from sklearn.model_selection import train_test_split"
   ]
  },
  {
   "cell_type": "markdown",
   "metadata": {},
   "source": [
    "# Data setup"
   ]
  },
  {
   "cell_type": "code",
   "execution_count": 166,
   "metadata": {},
   "outputs": [],
   "source": [
    "series_data = pd.read_csv(\"../data/denver_series_data.csv\")\n",
    "X_variables = [\"humidity_Denver\",\"pressure_Denver\",\"temperature_Denver\",\"wind_direction_Denver\",\"wind_speed_Denver\"]\n",
    "y_variables = [\"weather_description_Denver\"]\n",
    "\n",
    "X_data = series_data[X_variables]\n",
    "y_data = series_data[y_variables]\n",
    "\n",
    "number_of_hours_to_predict = 1"
   ]
  },
  {
   "cell_type": "markdown",
   "metadata": {},
   "source": [
    "## Normalize Data"
   ]
  },
  {
   "cell_type": "code",
   "execution_count": 5,
   "metadata": {},
   "outputs": [
    {
     "ename": "NameError",
     "evalue": "name 'X_data' is not defined",
     "output_type": "error",
     "traceback": [
      "\u001b[0;31m---------------------------------------------------------------------------\u001b[0m",
      "\u001b[0;31mNameError\u001b[0m                                 Traceback (most recent call last)",
      "\u001b[0;32m<ipython-input-5-343e90ea161d>\u001b[0m in \u001b[0;36m<module>\u001b[0;34m\u001b[0m\n\u001b[0;32m----> 1\u001b[0;31m \u001b[0mnon_zero_X_data\u001b[0m \u001b[0;34m=\u001b[0m \u001b[0mX_data\u001b[0m\u001b[0;34m.\u001b[0m\u001b[0mloc\u001b[0m\u001b[0;34m[\u001b[0m\u001b[0mX_data\u001b[0m\u001b[0;34m[\u001b[0m\u001b[0;34m\"temperature_Denver\"\u001b[0m\u001b[0;34m]\u001b[0m \u001b[0;34m!=\u001b[0m \u001b[0;36m0\u001b[0m\u001b[0;34m]\u001b[0m\u001b[0;34m\u001b[0m\u001b[0;34m\u001b[0m\u001b[0m\n\u001b[0m\u001b[1;32m      2\u001b[0m \u001b[0mmin_X_data\u001b[0m \u001b[0;34m=\u001b[0m \u001b[0mnon_zero_X_data\u001b[0m\u001b[0;34m.\u001b[0m\u001b[0mmin\u001b[0m\u001b[0;34m(\u001b[0m\u001b[0;34m)\u001b[0m\u001b[0;34m\u001b[0m\u001b[0;34m\u001b[0m\u001b[0m\n\u001b[1;32m      3\u001b[0m \u001b[0mmax_X_data\u001b[0m \u001b[0;34m=\u001b[0m \u001b[0mnon_zero_X_data\u001b[0m\u001b[0;34m.\u001b[0m\u001b[0mmax\u001b[0m\u001b[0;34m(\u001b[0m\u001b[0;34m)\u001b[0m\u001b[0;34m\u001b[0m\u001b[0;34m\u001b[0m\u001b[0m\n\u001b[1;32m      4\u001b[0m \u001b[0;34m\u001b[0m\u001b[0m\n\u001b[1;32m      5\u001b[0m \u001b[0mnormalized_X_data\u001b[0m \u001b[0;34m=\u001b[0m \u001b[0;34m(\u001b[0m\u001b[0mX_data\u001b[0m \u001b[0;34m-\u001b[0m \u001b[0mmin_X_data\u001b[0m\u001b[0;34m)\u001b[0m \u001b[0;34m/\u001b[0m \u001b[0;34m(\u001b[0m\u001b[0mmax_X_data\u001b[0m \u001b[0;34m-\u001b[0m \u001b[0mmin_X_data\u001b[0m\u001b[0;34m)\u001b[0m\u001b[0;34m\u001b[0m\u001b[0;34m\u001b[0m\u001b[0m\n",
      "\u001b[0;31mNameError\u001b[0m: name 'X_data' is not defined"
     ]
    }
   ],
   "source": [
    "non_zero_X_data = X_data.loc[X_data[\"temperature_Denver\"] != 0]\n",
    "min_X_data = non_zero_X_data.min()\n",
    "max_X_data = non_zero_X_data.max()\n",
    "\n",
    "normalized_X_data = (X_data - min_X_data) / (max_X_data - min_X_data) \n",
    "normalized_X_data = pd.concat([normalized_X_data, y_data], axis=1)\n",
    "normalized_X_data = normalized_X_data.clip(lower=0)"
   ]
  },
  {
   "cell_type": "markdown",
   "metadata": {},
   "source": [
    "# Merge similar weather types"
   ]
  },
  {
   "cell_type": "code",
   "execution_count": 168,
   "metadata": {},
   "outputs": [
    {
     "name": "stderr",
     "output_type": "stream",
     "text": [
      "/home/jhallbe/anaconda3/envs/waldo/lib/python3.5/site-packages/ipykernel_launcher.py:3: SettingWithCopyWarning: \n",
      "A value is trying to be set on a copy of a slice from a DataFrame\n",
      "\n",
      "See the caveats in the documentation: http://pandas.pydata.org/pandas-docs/stable/indexing.html#indexing-view-versus-copy\n",
      "  This is separate from the ipykernel package so we can avoid doing imports until\n"
     ]
    }
   ],
   "source": [
    "def merge_similar(data, similarities, new_value):\n",
    "    for similarity in similarities:\n",
    "        data.loc[data[\"weather_description_Denver\"] == similarity] = new_value\n",
    "    return data\n",
    "    \n",
    "light_rain = [3, 16, 19, 22, 23, 30, 32, 33]\n",
    "mist = [13]\n",
    "haze = [24, 26, 7]\n",
    "snow = [9, 31]\n",
    "moderate_rain = [12, 17, 18, 20, 25, 27, 28, 29, 34]\n",
    "\n",
    "y_data = merge_similar(y_data, light_rain, 1)\n",
    "y_data = merge_similar(y_data, mist, 10)\n",
    "y_data = merge_similar(y_data, haze, 11)\n",
    "y_data = merge_similar(y_data, snow, 15)\n",
    "y_data = merge_similar(y_data, moderate_rain, 21)"
   ]
  },
  {
   "cell_type": "markdown",
   "metadata": {},
   "source": [
    "## Generate All Possible Sequences"
   ]
  },
  {
   "cell_type": "code",
   "execution_count": 169,
   "metadata": {},
   "outputs": [],
   "source": [
    "X_data_arrays = []\n",
    "y_data_arrays = []\n",
    "\n",
    "for index in series_data.loc[series_data[\"weather_description_Denver\"] != 0].index:\n",
    "    if index >= 24 and index < series_data.shape[0]:\n",
    "        X_data_arrays.append(normalized_X_data.iloc[index - 24: index][X_variables + y_variables].values)\n",
    "        y_data_arrays.append(y_data.iloc[index: index+number_of_hours_to_predict][y_variables].values)\n",
    "        \n",
    "X_data_arrays = np.array(X_data_arrays)\n",
    "y_data_arrays = np.array(y_data_arrays)"
   ]
  },
  {
   "cell_type": "markdown",
   "metadata": {},
   "source": [
    "## Convert Y Targets to Categorical 1-Hot Encoded Vectors"
   ]
  },
  {
   "cell_type": "code",
   "execution_count": 183,
   "metadata": {},
   "outputs": [],
   "source": [
    "squeezed_y_data = np.squeeze(y_data_arrays, axis=1)\n",
    "#True Labels [ 1,  2,  4,  5,  6,  8, 10, 11, 14, 15, 21]\n",
    "def transform_labels_0_n(y_data):\n",
    "    label = 0\n",
    "    labels = {}\n",
    "    \n",
    "    for i, target in enumerate(y_data):\n",
    "        if target[0] not in labels:\n",
    "            labels[target[0]] = label\n",
    "            label += 1\n",
    "            \n",
    "        y_data[i][0] = labels[target[0]]\n",
    "    return y_data\n",
    "transformed_y_data = transform_labels_0_n(squeezed_y_data)\n",
    "categorical_y_data = to_categorical(squeezed_y_data)"
   ]
  },
  {
   "cell_type": "markdown",
   "metadata": {},
   "source": [
    "## Split Data Into training and testing."
   ]
  },
  {
   "cell_type": "code",
   "execution_count": 186,
   "metadata": {},
   "outputs": [],
   "source": [
    "X_train, X_test, y_train, y_test = train_test_split(X_data_arrays, categorical_y_data, test_size=0.2)"
   ]
  },
  {
   "cell_type": "code",
   "execution_count": 132,
   "metadata": {},
   "outputs": [],
   "source": [
    "t = {'broken clouds': 2,\n",
    " 'drizzle': 19,\n",
    " 'dust': 26,\n",
    " 'few clouds': 5,\n",
    " 'fog': 13,\n",
    " 'haze': 11,\n",
    " 'heavy intensity drizzle': 32,\n",
    " 'heavy intensity rain': 18,\n",
    " 'heavy snow': 9,\n",
    " 'light intensity drizzle': 16,\n",
    " 'light intensity shower rain': 23,\n",
    " 'light rain': 1,\n",
    " 'light rain and snow': 31,\n",
    " 'light snow': 14,\n",
    " 'mist': 10,\n",
    " 'moderate rain': 21,\n",
    " 'overcast clouds': 8,\n",
    " 'proximity shower rain': 3,\n",
    " 'proximity thunderstorm': 12,\n",
    " 'proximity thunderstorm with rain': 28,\n",
    " 'ragged thunderstorm': 34,\n",
    " 'scattered clouds': 4,\n",
    " 'shower rain': 29,\n",
    " 'sky is clear': 6,\n",
    " 'smoke': 24,\n",
    " 'snow': 15,\n",
    " 'squalls': 7,\n",
    " 'thunderstorm': 20,\n",
    " 'thunderstorm with heavy drizzle': 33,\n",
    " 'thunderstorm with heavy rain': 25,\n",
    " 'thunderstorm with light drizzle': 30,\n",
    " 'thunderstorm with light rain': 22,\n",
    " 'thunderstorm with rain': 17,\n",
    " 'very heavy rain': 27}\n",
    "\n",
    "\n",
    "res = dict((v,k) for k,v in t.items())\n"
   ]
  },
  {
   "cell_type": "code",
   "execution_count": 189,
   "metadata": {},
   "outputs": [],
   "source": [
    "# values, counts = np.unique(y_data_arrays, return_counts=True)\n",
    "# for count, value in zip(counts, values):\n",
    "#     if count >= 400:\n",
    "#         print(count, res[value], value)\n",
    "    "
   ]
  },
  {
   "cell_type": "markdown",
   "metadata": {},
   "source": [
    "# Model Creation"
   ]
  },
  {
   "cell_type": "code",
   "execution_count": 228,
   "metadata": {},
   "outputs": [],
   "source": [
    "def create_model2(timesteps, features):\n",
    "    model = Sequential()\n",
    "    model.add(Conv1D(filters=128, kernel_size=3, strides=1, input_shape=(timesteps, features)))\n",
    "    model.add(Activation('relu'))\n",
    "    model.add(LSTM(128, return_sequences=True))\n",
    "    model.add(Activation('relu'))\n",
    "    model.add(LSTM(128))\n",
    "    model.add(Activation('relu'))\n",
    "    model.add(Dense(256))\n",
    "    model.add(Activation('relu'))\n",
    "    model.add(Dense(256))\n",
    "    model.add(Activation('relu'))\n",
    "    model.add(Dense(11, activation='softmax', name=\"OutputLayer\"))\n",
    "    \n",
    "    model.compile(loss='categorical_crossentropy', optimizer=Adam(lr=1e-3),metrics=['accuracy'])\n",
    "    return model\n",
    "\n",
    "# 0.694, starting to overfit 20 epochs\n",
    "# def create_model(timesteps, features):\n",
    "#     model = Sequential()\n",
    "#     model.add(Masking(mask_value=0., input_shape=(timesteps, features)))\n",
    "#     model.add(LSTM(128, return_sequences=True))\n",
    "#     model.add(Activation('relu'))\n",
    "#     model.add(LSTM(128))\n",
    "#     model.add(Activation('relu'))\n",
    "#     model.add(Dense(256))\n",
    "#     model.add(Activation('relu'))\n",
    "#     model.add(Dense(256))\n",
    "#     model.add(Activation('relu'))\n",
    "#     model.add(Dense(11, activation='softmax', name=\"OutputLayer\"))\n",
    "    \n",
    "#     model.compile(loss='categorical_crossentropy', optimizer=Adam(lr=1e-3),metrics=['accuracy'])\n",
    "#     return model"
   ]
  },
  {
   "cell_type": "markdown",
   "metadata": {},
   "source": [
    "## Train Model"
   ]
  },
  {
   "cell_type": "code",
   "execution_count": 205,
   "metadata": {
    "scrolled": true
   },
   "outputs": [
    {
     "name": "stdout",
     "output_type": "stream",
     "text": [
      "Train on 34558 samples, validate on 8640 samples\n",
      "Epoch 1/20\n",
      "34558/34558 [==============================] - 47s 1ms/step - loss: 1.3731 - acc: 0.5703 - val_loss: 1.1832 - val_acc: 0.6584\n",
      "Epoch 2/20\n",
      "34558/34558 [==============================] - 43s 1ms/step - loss: 1.1514 - acc: 0.6572 - val_loss: 1.1291 - val_acc: 0.6663\n",
      "Epoch 3/20\n",
      "34558/34558 [==============================] - 44s 1ms/step - loss: 1.1028 - acc: 0.6672 - val_loss: 1.1022 - val_acc: 0.6691\n",
      "Epoch 4/20\n",
      "34558/34558 [==============================] - 43s 1ms/step - loss: 1.0755 - acc: 0.6711 - val_loss: 1.0624 - val_acc: 0.6772\n",
      "Epoch 5/20\n",
      "34558/34558 [==============================] - 44s 1ms/step - loss: 1.0481 - acc: 0.6766 - val_loss: 1.0347 - val_acc: 0.6834\n",
      "Epoch 6/20\n",
      "34558/34558 [==============================] - 44s 1ms/step - loss: 1.0290 - acc: 0.6793 - val_loss: 1.0569 - val_acc: 0.6821\n",
      "Epoch 7/20\n",
      "34558/34558 [==============================] - 43s 1ms/step - loss: 1.0157 - acc: 0.6836 - val_loss: 1.0138 - val_acc: 0.6878\n",
      "Epoch 8/20\n",
      "34558/34558 [==============================] - 44s 1ms/step - loss: 1.0005 - acc: 0.6863 - val_loss: 1.0142 - val_acc: 0.6874\n",
      "Epoch 9/20\n",
      "34558/34558 [==============================] - 44s 1ms/step - loss: 0.9861 - acc: 0.6890 - val_loss: 1.0087 - val_acc: 0.6844\n",
      "Epoch 10/20\n",
      "34558/34558 [==============================] - 44s 1ms/step - loss: 0.9727 - acc: 0.6923 - val_loss: 1.0203 - val_acc: 0.6837\n",
      "Epoch 11/20\n",
      "34558/34558 [==============================] - 44s 1ms/step - loss: 0.9660 - acc: 0.6932 - val_loss: 1.0005 - val_acc: 0.6889\n",
      "Epoch 12/20\n",
      "34558/34558 [==============================] - 44s 1ms/step - loss: 0.9499 - acc: 0.6968 - val_loss: 0.9963 - val_acc: 0.6941\n",
      "Epoch 13/20\n",
      "34558/34558 [==============================] - 44s 1ms/step - loss: 0.9381 - acc: 0.6986 - val_loss: 1.0077 - val_acc: 0.6891\n",
      "Epoch 14/20\n",
      "34558/34558 [==============================] - 44s 1ms/step - loss: 0.9272 - acc: 0.7004 - val_loss: 0.9954 - val_acc: 0.6866\n",
      "Epoch 15/20\n",
      "34558/34558 [==============================] - 43s 1ms/step - loss: 0.9125 - acc: 0.7038 - val_loss: 0.9992 - val_acc: 0.6869\n",
      "Epoch 16/20\n",
      "34558/34558 [==============================] - 44s 1ms/step - loss: 0.9014 - acc: 0.7062 - val_loss: 0.9931 - val_acc: 0.6903\n",
      "Epoch 17/20\n",
      "34558/34558 [==============================] - 44s 1ms/step - loss: 0.8852 - acc: 0.7105 - val_loss: 1.0008 - val_acc: 0.6853\n",
      "Epoch 18/20\n",
      "34558/34558 [==============================] - 44s 1ms/step - loss: 0.8686 - acc: 0.7118 - val_loss: 1.0258 - val_acc: 0.6852\n",
      "Epoch 19/20\n",
      "34558/34558 [==============================] - 44s 1ms/step - loss: 0.8508 - acc: 0.7190 - val_loss: 1.0191 - val_acc: 0.6816\n",
      "Epoch 20/20\n",
      "34558/34558 [==============================] - 44s 1ms/step - loss: 0.8364 - acc: 0.7219 - val_loss: 1.0320 - val_acc: 0.6788\n"
     ]
    },
    {
     "data": {
      "text/plain": [
       "<keras.callbacks.History at 0x7f55cdd3ce48>"
      ]
     },
     "execution_count": 205,
     "metadata": {},
     "output_type": "execute_result"
    }
   ],
   "source": [
    "epochs=20\n",
    "batch_size = 64\n",
    "model = create_model(24, 6)\n",
    "model.fit(X_train, y_train, epochs=epochs, batch_size=batch_size, validation_data=(X_test, y_test))"
   ]
  },
  {
   "cell_type": "markdown",
   "metadata": {},
   "source": [
    "# Grab temporal data with no gaps in sequence."
   ]
  },
  {
   "cell_type": "code",
   "execution_count": 231,
   "metadata": {},
   "outputs": [],
   "source": [
    "non_zero_temporal_X_data = []\n",
    "non_zero_temporal_y_data = []\n",
    "\n",
    "for sequence, target in zip(X_test, y_test):\n",
    "    non_zero_sequence = True\n",
    "    \n",
    "    for sub_sequence in sequence:\n",
    "        if np.count_nonzero(sub_sequence==0) == 6:\n",
    "            non_zero_sequence = False\n",
    "            \n",
    "    if non_zero_sequence:\n",
    "        non_zero_temporal_X_data.append(sequence)\n",
    "        non_zero_temporal_y_data.append(target)\n",
    "        \n",
    "non_zero_temporal_X_data = np.array(non_zero_temporal_X_data)\n",
    "non_zero_temporal_y_data = np.array(non_zero_temporal_y_data)\n"
   ]
  },
  {
   "cell_type": "code",
   "execution_count": 232,
   "metadata": {},
   "outputs": [
    {
     "data": {
      "text/plain": [
       "(7318, 24, 6)"
      ]
     },
     "execution_count": 232,
     "metadata": {},
     "output_type": "execute_result"
    }
   ],
   "source": [
    "non_zero_temporal_X_data.shape"
   ]
  },
  {
   "cell_type": "markdown",
   "metadata": {},
   "source": [
    "### Evaluate model on non-zero temporal data."
   ]
  },
  {
   "cell_type": "code",
   "execution_count": 227,
   "metadata": {},
   "outputs": [
    {
     "name": "stdout",
     "output_type": "stream",
     "text": [
      "29306/29306 [==============================] - 24s 825us/step\n"
     ]
    },
    {
     "data": {
      "text/plain": [
       "[0.786207084455466, 0.7354466661954263]"
      ]
     },
     "execution_count": 227,
     "metadata": {},
     "output_type": "execute_result"
    }
   ],
   "source": [
    "model.evaluate(non_zero_temporal_X_data, non_zero_temporal_y_data)"
   ]
  },
  {
   "cell_type": "markdown",
   "metadata": {},
   "source": [
    "### Train RCNN."
   ]
  },
  {
   "cell_type": "code",
   "execution_count": 230,
   "metadata": {},
   "outputs": [
    {
     "name": "stdout",
     "output_type": "stream",
     "text": [
      "Epoch 1/20\n",
      "29306/29306 [==============================] - 61s 2ms/step - loss: 1.3244 - acc: 0.5838\n",
      "Epoch 2/20\n",
      "29306/29306 [==============================] - 54s 2ms/step - loss: 1.1483 - acc: 0.6558\n",
      "Epoch 3/20\n",
      "29306/29306 [==============================] - 54s 2ms/step - loss: 1.1019 - acc: 0.6675\n",
      "Epoch 4/20\n",
      "29306/29306 [==============================] - 53s 2ms/step - loss: 1.0770 - acc: 0.6738\n",
      "Epoch 5/20\n",
      "29306/29306 [==============================] - 54s 2ms/step - loss: 1.0532 - acc: 0.6756\n",
      "Epoch 6/20\n",
      "29306/29306 [==============================] - 53s 2ms/step - loss: 1.0338 - acc: 0.6804\n",
      "Epoch 7/20\n",
      "29306/29306 [==============================] - 54s 2ms/step - loss: 1.0134 - acc: 0.6807\n",
      "Epoch 8/20\n",
      "29306/29306 [==============================] - 54s 2ms/step - loss: 0.9950 - acc: 0.6852\n",
      "Epoch 9/20\n",
      "29306/29306 [==============================] - 54s 2ms/step - loss: 0.9779 - acc: 0.6918\n",
      "Epoch 10/20\n",
      "29306/29306 [==============================] - 54s 2ms/step - loss: 0.9632 - acc: 0.6932\n",
      "Epoch 11/20\n",
      "29306/29306 [==============================] - 54s 2ms/step - loss: 0.9498 - acc: 0.6963\n",
      "Epoch 12/20\n",
      "29306/29306 [==============================] - 54s 2ms/step - loss: 0.9325 - acc: 0.7013\n",
      "Epoch 13/20\n",
      "20288/29306 [===================>..........] - ETA: 16s - loss: 0.9185 - acc: 0.7030"
     ]
    },
    {
     "ename": "KeyboardInterrupt",
     "evalue": "",
     "output_type": "error",
     "traceback": [
      "\u001b[0;31m---------------------------------------------------------------------------\u001b[0m",
      "\u001b[0;31mKeyboardInterrupt\u001b[0m                         Traceback (most recent call last)",
      "\u001b[0;32m<ipython-input-230-4a6dd3bd34b6>\u001b[0m in \u001b[0;36m<module>\u001b[0;34m\u001b[0m\n\u001b[1;32m      1\u001b[0m \u001b[0mmodel2\u001b[0m \u001b[0;34m=\u001b[0m \u001b[0mcreate_model2\u001b[0m\u001b[0;34m(\u001b[0m\u001b[0;36m24\u001b[0m\u001b[0;34m,\u001b[0m \u001b[0;36m6\u001b[0m\u001b[0;34m)\u001b[0m\u001b[0;34m\u001b[0m\u001b[0m\n\u001b[0;32m----> 2\u001b[0;31m \u001b[0mmodel2\u001b[0m\u001b[0;34m.\u001b[0m\u001b[0mfit\u001b[0m\u001b[0;34m(\u001b[0m\u001b[0mnon_zero_temporal_X_data\u001b[0m\u001b[0;34m,\u001b[0m \u001b[0mnon_zero_temporal_y_data\u001b[0m\u001b[0;34m,\u001b[0m \u001b[0mepochs\u001b[0m\u001b[0;34m=\u001b[0m\u001b[0mepochs\u001b[0m\u001b[0;34m)\u001b[0m\u001b[0;34m\u001b[0m\u001b[0m\n\u001b[0m",
      "\u001b[0;32m~/anaconda3/envs/waldo/lib/python3.5/site-packages/keras/engine/training.py\u001b[0m in \u001b[0;36mfit\u001b[0;34m(self, x, y, batch_size, epochs, verbose, callbacks, validation_split, validation_data, shuffle, class_weight, sample_weight, initial_epoch, steps_per_epoch, validation_steps, **kwargs)\u001b[0m\n\u001b[1;32m   1037\u001b[0m                                         \u001b[0minitial_epoch\u001b[0m\u001b[0;34m=\u001b[0m\u001b[0minitial_epoch\u001b[0m\u001b[0;34m,\u001b[0m\u001b[0;34m\u001b[0m\u001b[0m\n\u001b[1;32m   1038\u001b[0m                                         \u001b[0msteps_per_epoch\u001b[0m\u001b[0;34m=\u001b[0m\u001b[0msteps_per_epoch\u001b[0m\u001b[0;34m,\u001b[0m\u001b[0;34m\u001b[0m\u001b[0m\n\u001b[0;32m-> 1039\u001b[0;31m                                         validation_steps=validation_steps)\n\u001b[0m\u001b[1;32m   1040\u001b[0m \u001b[0;34m\u001b[0m\u001b[0m\n\u001b[1;32m   1041\u001b[0m     def evaluate(self, x=None, y=None,\n",
      "\u001b[0;32m~/anaconda3/envs/waldo/lib/python3.5/site-packages/keras/engine/training_arrays.py\u001b[0m in \u001b[0;36mfit_loop\u001b[0;34m(model, f, ins, out_labels, batch_size, epochs, verbose, callbacks, val_f, val_ins, shuffle, callback_metrics, initial_epoch, steps_per_epoch, validation_steps)\u001b[0m\n\u001b[1;32m    197\u001b[0m                     \u001b[0mins_batch\u001b[0m\u001b[0;34m[\u001b[0m\u001b[0mi\u001b[0m\u001b[0;34m]\u001b[0m \u001b[0;34m=\u001b[0m \u001b[0mins_batch\u001b[0m\u001b[0;34m[\u001b[0m\u001b[0mi\u001b[0m\u001b[0;34m]\u001b[0m\u001b[0;34m.\u001b[0m\u001b[0mtoarray\u001b[0m\u001b[0;34m(\u001b[0m\u001b[0;34m)\u001b[0m\u001b[0;34m\u001b[0m\u001b[0m\n\u001b[1;32m    198\u001b[0m \u001b[0;34m\u001b[0m\u001b[0m\n\u001b[0;32m--> 199\u001b[0;31m                 \u001b[0mouts\u001b[0m \u001b[0;34m=\u001b[0m \u001b[0mf\u001b[0m\u001b[0;34m(\u001b[0m\u001b[0mins_batch\u001b[0m\u001b[0;34m)\u001b[0m\u001b[0;34m\u001b[0m\u001b[0m\n\u001b[0m\u001b[1;32m    200\u001b[0m                 \u001b[0mouts\u001b[0m \u001b[0;34m=\u001b[0m \u001b[0mto_list\u001b[0m\u001b[0;34m(\u001b[0m\u001b[0mouts\u001b[0m\u001b[0;34m)\u001b[0m\u001b[0;34m\u001b[0m\u001b[0m\n\u001b[1;32m    201\u001b[0m                 \u001b[0;32mfor\u001b[0m \u001b[0ml\u001b[0m\u001b[0;34m,\u001b[0m \u001b[0mo\u001b[0m \u001b[0;32min\u001b[0m \u001b[0mzip\u001b[0m\u001b[0;34m(\u001b[0m\u001b[0mout_labels\u001b[0m\u001b[0;34m,\u001b[0m \u001b[0mouts\u001b[0m\u001b[0;34m)\u001b[0m\u001b[0;34m:\u001b[0m\u001b[0;34m\u001b[0m\u001b[0m\n",
      "\u001b[0;32m~/anaconda3/envs/waldo/lib/python3.5/site-packages/keras/backend/tensorflow_backend.py\u001b[0m in \u001b[0;36m__call__\u001b[0;34m(self, inputs)\u001b[0m\n\u001b[1;32m   2713\u001b[0m                 \u001b[0;32mreturn\u001b[0m \u001b[0mself\u001b[0m\u001b[0;34m.\u001b[0m\u001b[0m_legacy_call\u001b[0m\u001b[0;34m(\u001b[0m\u001b[0minputs\u001b[0m\u001b[0;34m)\u001b[0m\u001b[0;34m\u001b[0m\u001b[0m\n\u001b[1;32m   2714\u001b[0m \u001b[0;34m\u001b[0m\u001b[0m\n\u001b[0;32m-> 2715\u001b[0;31m             \u001b[0;32mreturn\u001b[0m \u001b[0mself\u001b[0m\u001b[0;34m.\u001b[0m\u001b[0m_call\u001b[0m\u001b[0;34m(\u001b[0m\u001b[0minputs\u001b[0m\u001b[0;34m)\u001b[0m\u001b[0;34m\u001b[0m\u001b[0m\n\u001b[0m\u001b[1;32m   2716\u001b[0m         \u001b[0;32melse\u001b[0m\u001b[0;34m:\u001b[0m\u001b[0;34m\u001b[0m\u001b[0m\n\u001b[1;32m   2717\u001b[0m             \u001b[0;32mif\u001b[0m \u001b[0mpy_any\u001b[0m\u001b[0;34m(\u001b[0m\u001b[0mis_tensor\u001b[0m\u001b[0;34m(\u001b[0m\u001b[0mx\u001b[0m\u001b[0;34m)\u001b[0m \u001b[0;32mfor\u001b[0m \u001b[0mx\u001b[0m \u001b[0;32min\u001b[0m \u001b[0minputs\u001b[0m\u001b[0;34m)\u001b[0m\u001b[0;34m:\u001b[0m\u001b[0;34m\u001b[0m\u001b[0m\n",
      "\u001b[0;32m~/anaconda3/envs/waldo/lib/python3.5/site-packages/keras/backend/tensorflow_backend.py\u001b[0m in \u001b[0;36m_call\u001b[0;34m(self, inputs)\u001b[0m\n\u001b[1;32m   2673\u001b[0m             \u001b[0mfetched\u001b[0m \u001b[0;34m=\u001b[0m \u001b[0mself\u001b[0m\u001b[0;34m.\u001b[0m\u001b[0m_callable_fn\u001b[0m\u001b[0;34m(\u001b[0m\u001b[0;34m*\u001b[0m\u001b[0marray_vals\u001b[0m\u001b[0;34m,\u001b[0m \u001b[0mrun_metadata\u001b[0m\u001b[0;34m=\u001b[0m\u001b[0mself\u001b[0m\u001b[0;34m.\u001b[0m\u001b[0mrun_metadata\u001b[0m\u001b[0;34m)\u001b[0m\u001b[0;34m\u001b[0m\u001b[0m\n\u001b[1;32m   2674\u001b[0m         \u001b[0;32melse\u001b[0m\u001b[0;34m:\u001b[0m\u001b[0;34m\u001b[0m\u001b[0m\n\u001b[0;32m-> 2675\u001b[0;31m             \u001b[0mfetched\u001b[0m \u001b[0;34m=\u001b[0m \u001b[0mself\u001b[0m\u001b[0;34m.\u001b[0m\u001b[0m_callable_fn\u001b[0m\u001b[0;34m(\u001b[0m\u001b[0;34m*\u001b[0m\u001b[0marray_vals\u001b[0m\u001b[0;34m)\u001b[0m\u001b[0;34m\u001b[0m\u001b[0m\n\u001b[0m\u001b[1;32m   2676\u001b[0m         \u001b[0;32mreturn\u001b[0m \u001b[0mfetched\u001b[0m\u001b[0;34m[\u001b[0m\u001b[0;34m:\u001b[0m\u001b[0mlen\u001b[0m\u001b[0;34m(\u001b[0m\u001b[0mself\u001b[0m\u001b[0;34m.\u001b[0m\u001b[0moutputs\u001b[0m\u001b[0;34m)\u001b[0m\u001b[0;34m]\u001b[0m\u001b[0;34m\u001b[0m\u001b[0m\n\u001b[1;32m   2677\u001b[0m \u001b[0;34m\u001b[0m\u001b[0m\n",
      "\u001b[0;32m~/anaconda3/envs/waldo/lib/python3.5/site-packages/tensorflow/python/client/session.py\u001b[0m in \u001b[0;36m__call__\u001b[0;34m(self, *args)\u001b[0m\n\u001b[1;32m   1449\u001b[0m         \u001b[0;32mif\u001b[0m \u001b[0mself\u001b[0m\u001b[0;34m.\u001b[0m\u001b[0m_session\u001b[0m\u001b[0;34m.\u001b[0m\u001b[0m_created_with_new_api\u001b[0m\u001b[0;34m:\u001b[0m\u001b[0;34m\u001b[0m\u001b[0m\n\u001b[1;32m   1450\u001b[0m           return tf_session.TF_SessionRunCallable(\n\u001b[0;32m-> 1451\u001b[0;31m               self._session._session, self._handle, args, status, None)\n\u001b[0m\u001b[1;32m   1452\u001b[0m         \u001b[0;32melse\u001b[0m\u001b[0;34m:\u001b[0m\u001b[0;34m\u001b[0m\u001b[0m\n\u001b[1;32m   1453\u001b[0m           return tf_session.TF_DeprecatedSessionRunCallable(\n",
      "\u001b[0;31mKeyboardInterrupt\u001b[0m: "
     ]
    }
   ],
   "source": [
    "model2 = create_model2(24, 6)\n",
    "model2.fit(non_zero_temporal_X_data, non_zero_temporal_y_data, epochs=epochs)"
   ]
  },
  {
   "cell_type": "code",
   "execution_count": 233,
   "metadata": {},
   "outputs": [
    {
     "name": "stdout",
     "output_type": "stream",
     "text": [
      "7318/7318 [==============================] - 7s 916us/step\n"
     ]
    },
    {
     "data": {
      "text/plain": [
       "[1.0037649653263514, 0.6832467887075132]"
      ]
     },
     "execution_count": 233,
     "metadata": {},
     "output_type": "execute_result"
    }
   ],
   "source": [
    "model2.evaluate(non_zero_temporal_X_data, non_zero_temporal_y_data)"
   ]
  },
  {
   "cell_type": "code",
   "execution_count": null,
   "metadata": {},
   "outputs": [],
   "source": []
  }
 ],
 "metadata": {
  "kernelspec": {
   "display_name": "Python 3",
   "language": "python",
   "name": "python3"
  },
  "language_info": {
   "codemirror_mode": {
    "name": "ipython",
    "version": 3
   },
   "file_extension": ".py",
   "mimetype": "text/x-python",
   "name": "python",
   "nbconvert_exporter": "python",
   "pygments_lexer": "ipython3",
   "version": "3.6.7"
  }
 },
 "nbformat": 4,
 "nbformat_minor": 2
}
