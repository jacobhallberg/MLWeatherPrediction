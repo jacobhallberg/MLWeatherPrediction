{
 "cells": [
  {
   "cell_type": "markdown",
   "metadata": {},
   "source": [
    "# Stretch Goal Approaches"
   ]
  },
  {
   "cell_type": "markdown",
   "metadata": {},
   "source": [
    "### Imports"
   ]
  },
  {
   "cell_type": "code",
   "execution_count": null,
   "metadata": {},
   "outputs": [],
   "source": [
    "%load_ext autoreload\n",
    "%autoreload 2\n",
    "from models import weather_classifier, ConvLSTM_predictor\n",
    "from keras.callbacks import ModelCheckpoint\n",
    "from keras.utils import to_categorical\n",
    "from sklearn.preprocessing import LabelEncoder\n",
    "from sklearn.model_selection import train_test_split\n",
    "from DataGenerators import WeatherImageGenerator, SequenceWeatherImageGenerator\n",
    "import matplotlib.pyplot as plt\n",
    "import numpy as np"
   ]
  },
  {
   "cell_type": "markdown",
   "metadata": {},
   "source": [
    "### Load Data"
   ]
  },
  {
   "cell_type": "code",
   "execution_count": null,
   "metadata": {},
   "outputs": [],
   "source": [
    "x_data = np.load(\"images2.npy\")\n",
    "y_data = np.load(\"labels2.npy\")\n",
    "\n",
    "x_data = np.moveaxis(x_data, 1, -1)\n",
    "x_data = x_data / 255 # Normalize images.\n",
    "\n",
    "label_encoder = LabelEncoder() \n",
    "y_data = label_encoder.fit_transform(y_data) # Encode images as numbers instead of strings.\n",
    "y_data = to_categorical(y_data) # Create an one-hot-encoded vector for each label.\n",
    "\n",
    "X_train, X_test, y_train, y_test = train_test_split(x_data, y_data, test_size=0.10)"
   ]
  },
  {
   "cell_type": "markdown",
   "metadata": {},
   "source": [
    "# Train Weather Classifier"
   ]
  },
  {
   "cell_type": "code",
   "execution_count": 48,
   "metadata": {},
   "outputs": [
    {
     "name": "stdout",
     "output_type": "stream",
     "text": [
      "_________________________________________________________________\n",
      "Layer (type)                 Output Shape              Param #   \n",
      "=================================================================\n",
      "conv2d_10 (Conv2D)           (None, 156, 246, 64)      32064     \n",
      "_________________________________________________________________\n",
      "batch_normalization_10 (Batc (None, 156, 246, 64)      256       \n",
      "_________________________________________________________________\n",
      "activation_23 (Activation)   (None, 156, 246, 64)      0         \n",
      "_________________________________________________________________\n",
      "conv2d_11 (Conv2D)           (None, 74, 119, 32)       204832    \n",
      "_________________________________________________________________\n",
      "batch_normalization_11 (Batc (None, 74, 119, 32)       128       \n",
      "_________________________________________________________________\n",
      "activation_24 (Activation)   (None, 74, 119, 32)       0         \n",
      "_________________________________________________________________\n",
      "conv2d_12 (Conv2D)           (None, 33, 55, 32)        102432    \n",
      "_________________________________________________________________\n",
      "batch_normalization_12 (Batc (None, 33, 55, 32)        128       \n",
      "_________________________________________________________________\n",
      "activation_25 (Activation)   (None, 33, 55, 32)        0         \n",
      "_________________________________________________________________\n",
      "global_average_pooling2d_4 ( (None, 32)                0         \n",
      "_________________________________________________________________\n",
      "dense_7 (Dense)              (None, 50)                1650      \n",
      "_________________________________________________________________\n",
      "dense_8 (Dense)              (None, 22)                1122      \n",
      "_________________________________________________________________\n",
      "activation_26 (Activation)   (None, 22)                0         \n",
      "=================================================================\n",
      "Total params: 342,612\n",
      "Trainable params: 342,356\n",
      "Non-trainable params: 256\n",
      "_________________________________________________________________\n"
     ]
    }
   ],
   "source": [
    "num_classes = y_data.shape[1]\n",
    "input_shape = x_data.shape[1:]\n",
    "batch_size = 32\n",
    "epochs = 30\n",
    "\n",
    "train_generator = WeatherImageGenerator(X_train, y_train, batch_size=batch_size)\n",
    "\n",
    "model = weather_classifier(num_classes=num_classes, input_shape=input_shape)\n",
    "model.summary()"
   ]
  },
  {
   "cell_type": "code",
   "execution_count": null,
   "metadata": {},
   "outputs": [],
   "source": [
    "model.fit_generator(train_generator, epochs=epochs, validation_data=(X_test,y_test))"
   ]
  },
  {
   "cell_type": "markdown",
   "metadata": {},
   "source": [
    "# Train Weather Image Generation Model"
   ]
  },
  {
   "cell_type": "code",
   "execution_count": 49,
   "metadata": {},
   "outputs": [
    {
     "name": "stdout",
     "output_type": "stream",
     "text": [
      "_________________________________________________________________\n",
      "Layer (type)                 Output Shape              Param #   \n",
      "=================================================================\n",
      "conv_lst_m2d_48 (ConvLSTM2D) (None, 4, 311, 491, 30)   420120    \n",
      "_________________________________________________________________\n",
      "activation_27 (Activation)   (None, 4, 311, 491, 30)   0         \n",
      "_________________________________________________________________\n",
      "conv_lst_m2d_49 (ConvLSTM2D) (None, 307, 487, 1)       3104      \n",
      "_________________________________________________________________\n",
      "activation_28 (Activation)   (None, 307, 487, 1)       0         \n",
      "=================================================================\n",
      "Total params: 423,224\n",
      "Trainable params: 423,224\n",
      "Non-trainable params: 0\n",
      "_________________________________________________________________\n"
     ]
    }
   ],
   "source": [
    "sequence_size = 4\n",
    "input_shape = (sequence_size,) + x_data[1].shape\n",
    "batch_size = 6\n",
    "epochs = 30\n",
    "\n",
    "train_generator = SequenceWeatherImageGenerator(x_data, batch_size=batch_size, sequence_size=sequence_size)\n",
    "\n",
    "model = ConvLSTM_predictor2(input_shape=input_shape)\n",
    "model.summary()"
   ]
  },
  {
   "cell_type": "code",
   "execution_count": null,
   "metadata": {},
   "outputs": [],
   "source": [
    "model.fit_generator(train_generator, epochs=epochs, callbacks=[checkpoint])"
   ]
  }
 ],
 "metadata": {
  "kernelspec": {
   "display_name": "Python 3",
   "language": "python",
   "name": "python3"
  },
  "language_info": {
   "codemirror_mode": {
    "name": "ipython",
    "version": 3
   },
   "file_extension": ".py",
   "mimetype": "text/x-python",
   "name": "python",
   "nbconvert_exporter": "python",
   "pygments_lexer": "ipython3",
   "version": "3.6.7"
  }
 },
 "nbformat": 4,
 "nbformat_minor": 2
}
