{
 "cells": [
  {
   "cell_type": "code",
   "execution_count": 5,
   "metadata": {},
   "outputs": [
    {
     "name": "stdout",
     "output_type": "stream",
     "text": [
      "The autoreload extension is already loaded. To reload it, use:\n",
      "  %reload_ext autoreload\n"
     ]
    }
   ],
   "source": [
    "%load_ext autoreload\n",
    "%autoreload 2\n",
    "from models import weather_classifier\n",
    "from tensorflow.keras.utils import to_categorical\n",
    "from sklearn.preprocessing import LabelEncoder\n",
    "from sklearn.model_selection import train_test_split\n",
    "import numpy as np"
   ]
  },
  {
   "cell_type": "code",
   "execution_count": 2,
   "metadata": {},
   "outputs": [],
   "source": [
    "x_data = np.load(\"images.npy\")\n",
    "y_data = np.load(\"labels.npy\")\n",
    "\n",
    "x_data = np.moveaxis(x_data, 1, -1) # Shift channels to the last axis. Keras expects channels last by default.\n",
    "x_data = x_data / 255 # Normalize images.\n",
    "\n",
    "label_encoder = LabelEncoder() \n",
    "y_data = label_encoder.fit_transform(y_data) # Encode images as numbers instead of strings.\n",
    "y_data = to_categorical(y_data) # Create an one-hot-encoded vector for each label.\n",
    "\n",
    "X_train, X_test, y_train, y_test = train_test_split(x_data, y_data, test_size=0.10)"
   ]
  },
  {
   "cell_type": "code",
   "execution_count": 11,
   "metadata": {},
   "outputs": [
    {
     "name": "stdout",
     "output_type": "stream",
     "text": [
      "_________________________________________________________________\n",
      "Layer (type)                 Output Shape              Param #   \n",
      "=================================================================\n",
      "conv2d_9 (Conv2D)            (None, 156, 246, 64)      32064     \n",
      "_________________________________________________________________\n",
      "activation_12 (Activation)   (None, 156, 246, 64)      0         \n",
      "_________________________________________________________________\n",
      "conv2d_10 (Conv2D)           (None, 74, 119, 32)       204832    \n",
      "_________________________________________________________________\n",
      "activation_13 (Activation)   (None, 74, 119, 32)       0         \n",
      "_________________________________________________________________\n",
      "conv2d_11 (Conv2D)           (None, 33, 55, 23)        73623     \n",
      "_________________________________________________________________\n",
      "activation_14 (Activation)   (None, 33, 55, 23)        0         \n",
      "_________________________________________________________________\n",
      "global_average_pooling2d_3 ( (None, 23)                0         \n",
      "_________________________________________________________________\n",
      "activation_15 (Activation)   (None, 23)                0         \n",
      "=================================================================\n",
      "Total params: 310,519\n",
      "Trainable params: 310,519\n",
      "Non-trainable params: 0\n",
      "_________________________________________________________________\n"
     ]
    }
   ],
   "source": [
    "num_classes = y_data.shape[1]\n",
    "input_shape = x_data.shape[1:]\n",
    "batch_size = 32\n",
    "epochs=30\n",
    "model = weather_classifier(num_classes=num_classes, input_shape=input_shape)\n",
    "model.summary()"
   ]
  },
  {
   "cell_type": "code",
   "execution_count": null,
   "metadata": {},
   "outputs": [
    {
     "name": "stdout",
     "output_type": "stream",
     "text": [
      "Train on 1897 samples, validate on 211 samples\n",
      "Epoch 1/30\n",
      "1897/1897 [==============================] - 76s 40ms/step - loss: 1.7025 - acc: 0.4676 - val_loss: 1.8196 - val_acc: 0.5071\n",
      "Epoch 2/30\n",
      "1897/1897 [==============================] - 76s 40ms/step - loss: 1.6755 - acc: 0.4734 - val_loss: 1.8048 - val_acc: 0.4692\n",
      "Epoch 3/30\n",
      "1897/1897 [==============================] - 74s 39ms/step - loss: 1.6677 - acc: 0.4802 - val_loss: 1.7933 - val_acc: 0.5118\n",
      "Epoch 4/30\n",
      "1897/1897 [==============================] - 72s 38ms/step - loss: 1.6572 - acc: 0.4871 - val_loss: 1.8504 - val_acc: 0.4834\n",
      "Epoch 5/30\n",
      "1897/1897 [==============================] - 70s 37ms/step - loss: 1.6315 - acc: 0.4871 - val_loss: 1.8868 - val_acc: 0.4265\n",
      "Epoch 6/30\n",
      "1897/1897 [==============================] - 78s 41ms/step - loss: 1.6201 - acc: 0.4950 - val_loss: 1.8127 - val_acc: 0.4692\n",
      "Epoch 7/30\n",
      "1897/1897 [==============================] - 79s 41ms/step - loss: 1.6160 - acc: 0.4871 - val_loss: 1.8625 - val_acc: 0.4692\n",
      "Epoch 8/30\n",
      "1897/1897 [==============================] - 78s 41ms/step - loss: 1.5925 - acc: 0.4939 - val_loss: 1.8063 - val_acc: 0.5024\n",
      "Epoch 9/30\n",
      " 480/1897 [======>.......................] - ETA: 52s - loss: 1.5164 - acc: 0.5083"
     ]
    }
   ],
   "source": [
    "model.fit(X_train, y_train, batch_size=batch_size, epochs=epochs, validation_data=(X_test,y_test))"
   ]
  },
  {
   "cell_type": "code",
   "execution_count": null,
   "metadata": {},
   "outputs": [],
   "source": []
  }
 ],
 "metadata": {
  "kernelspec": {
   "display_name": "Python 3",
   "language": "python",
   "name": "python3"
  },
  "language_info": {
   "codemirror_mode": {
    "name": "ipython",
    "version": 3
   },
   "file_extension": ".py",
   "mimetype": "text/x-python",
   "name": "python",
   "nbconvert_exporter": "python",
   "pygments_lexer": "ipython3",
   "version": "3.6.7"
  }
 },
 "nbformat": 4,
 "nbformat_minor": 2
}
